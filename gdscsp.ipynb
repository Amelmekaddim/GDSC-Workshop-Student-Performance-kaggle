{
 "cells": [
  {
   "cell_type": "markdown",
   "metadata": {
    "_cell_guid": "0fc1913b-834b-48ec-b62c-534334f0b8cf",
    "_uuid": "ea2829ed-7a04-481e-b497-82bf97bfb1ed"
   },
   "source": [
    "# Students performance in exams"
   ]
  },
  {
   "cell_type": "code",
   "execution_count": 1,
   "metadata": {
    "_cell_guid": "18a02346-4a3d-42fc-9585-7dd38547fd22",
    "_uuid": "b9559f9e-8d2b-4dd4-9e6e-6398acdb1ee2",
    "collapsed": false,
    "execution": {
     "iopub.execute_input": "2022-01-06T03:25:31.695894Z",
     "iopub.status.busy": "2022-01-06T03:25:31.695250Z",
     "iopub.status.idle": "2022-01-06T03:25:31.706210Z",
     "shell.execute_reply": "2022-01-06T03:25:31.705215Z",
     "shell.execute_reply.started": "2022-01-06T03:25:31.695828Z"
    },
    "jupyter": {
     "outputs_hidden": false
    }
   },
   "outputs": [],
   "source": [
    "import numpy as np\n",
    "import pandas as pd\n",
    "import seaborn as sns\n",
    "import matplotlib.pyplot as plt\n",
    "%matplotlib inline\n",
    "\n",
    "from sklearn.linear_model import LogisticRegression\n",
    "from sklearn.svm import SVC, LinearSVC\n",
    "from sklearn.ensemble import RandomForestClassifier\n",
    "from sklearn.neighbors import KNeighborsClassifier\n",
    "from sklearn.naive_bayes import GaussianNB\n",
    "from sklearn.linear_model import Perceptron\n",
    "from sklearn.linear_model import SGDClassifier\n",
    "from sklearn.tree import DecisionTreeClassifier"
   ]
  },
  {
   "cell_type": "code",
   "execution_count": 2,
   "metadata": {
    "_cell_guid": "1771a287-8aee-4d95-a939-51512690368a",
    "_uuid": "355f848d-9155-472b-82fc-33ec7895281b",
    "collapsed": false,
    "execution": {
     "iopub.execute_input": "2022-01-06T03:25:31.708843Z",
     "iopub.status.busy": "2022-01-06T03:25:31.708207Z",
     "iopub.status.idle": "2022-01-06T03:25:31.727914Z",
     "shell.execute_reply": "2022-01-06T03:25:31.727028Z",
     "shell.execute_reply.started": "2022-01-06T03:25:31.708795Z"
    },
    "jupyter": {
     "outputs_hidden": false
    }
   },
   "outputs": [],
   "source": [
    "data = pd.read_csv(\"../input/StudentsPerformance.csv\")"
   ]
  },
  {
   "cell_type": "code",
   "execution_count": 3,
   "metadata": {
    "_cell_guid": "cfe5d28c-fe08-444a-8d19-ec7c00055afa",
    "_uuid": "79f1da13-4b3d-4165-b4d6-17b65088a3fc",
    "collapsed": false,
    "execution": {
     "iopub.execute_input": "2022-01-06T03:25:31.729501Z",
     "iopub.status.busy": "2022-01-06T03:25:31.729101Z",
     "iopub.status.idle": "2022-01-06T03:25:31.762621Z",
     "shell.execute_reply": "2022-01-06T03:25:31.761362Z",
     "shell.execute_reply.started": "2022-01-06T03:25:31.729458Z"
    },
    "jupyter": {
     "outputs_hidden": false
    }
   },
   "outputs": [
    {
     "data": {
      "text/html": [
       "<div>\n",
       "<style scoped>\n",
       "    .dataframe tbody tr th:only-of-type {\n",
       "        vertical-align: middle;\n",
       "    }\n",
       "\n",
       "    .dataframe tbody tr th {\n",
       "        vertical-align: top;\n",
       "    }\n",
       "\n",
       "    .dataframe thead th {\n",
       "        text-align: right;\n",
       "    }\n",
       "</style>\n",
       "<table border=\"1\" class=\"dataframe\">\n",
       "  <thead>\n",
       "    <tr style=\"text-align: right;\">\n",
       "      <th></th>\n",
       "      <th>gender</th>\n",
       "      <th>race/ethnicity</th>\n",
       "      <th>parental level of education</th>\n",
       "      <th>lunch</th>\n",
       "      <th>test preparation course</th>\n",
       "      <th>math score</th>\n",
       "      <th>reading score</th>\n",
       "      <th>writing score</th>\n",
       "    </tr>\n",
       "  </thead>\n",
       "  <tbody>\n",
       "    <tr>\n",
       "      <th>0</th>\n",
       "      <td>female</td>\n",
       "      <td>group B</td>\n",
       "      <td>bachelor's degree</td>\n",
       "      <td>standard</td>\n",
       "      <td>none</td>\n",
       "      <td>72</td>\n",
       "      <td>72</td>\n",
       "      <td>74</td>\n",
       "    </tr>\n",
       "    <tr>\n",
       "      <th>1</th>\n",
       "      <td>female</td>\n",
       "      <td>group C</td>\n",
       "      <td>some college</td>\n",
       "      <td>standard</td>\n",
       "      <td>completed</td>\n",
       "      <td>69</td>\n",
       "      <td>90</td>\n",
       "      <td>88</td>\n",
       "    </tr>\n",
       "    <tr>\n",
       "      <th>2</th>\n",
       "      <td>female</td>\n",
       "      <td>group B</td>\n",
       "      <td>master's degree</td>\n",
       "      <td>standard</td>\n",
       "      <td>none</td>\n",
       "      <td>90</td>\n",
       "      <td>95</td>\n",
       "      <td>93</td>\n",
       "    </tr>\n",
       "    <tr>\n",
       "      <th>3</th>\n",
       "      <td>male</td>\n",
       "      <td>group A</td>\n",
       "      <td>associate's degree</td>\n",
       "      <td>free/reduced</td>\n",
       "      <td>none</td>\n",
       "      <td>47</td>\n",
       "      <td>57</td>\n",
       "      <td>44</td>\n",
       "    </tr>\n",
       "    <tr>\n",
       "      <th>4</th>\n",
       "      <td>male</td>\n",
       "      <td>group C</td>\n",
       "      <td>some college</td>\n",
       "      <td>standard</td>\n",
       "      <td>none</td>\n",
       "      <td>76</td>\n",
       "      <td>78</td>\n",
       "      <td>75</td>\n",
       "    </tr>\n",
       "  </tbody>\n",
       "</table>\n",
       "</div>"
      ],
      "text/plain": [
       "   gender race/ethnicity      ...      reading score writing score\n",
       "0  female        group B      ...                 72            74\n",
       "1  female        group C      ...                 90            88\n",
       "2  female        group B      ...                 95            93\n",
       "3    male        group A      ...                 57            44\n",
       "4    male        group C      ...                 78            75\n",
       "\n",
       "[5 rows x 8 columns]"
      ]
     },
     "execution_count": 3,
     "metadata": {},
     "output_type": "execute_result"
    }
   ],
   "source": [
    "data.head()"
   ]
  },
  {
   "cell_type": "code",
   "execution_count": 4,
   "metadata": {
    "_cell_guid": "7ecb0c4a-d387-4ccf-bf9c-a66e2c8d9494",
    "_uuid": "aa240511-4e76-4f92-a7a8-5dc7e2938220",
    "collapsed": false,
    "execution": {
     "iopub.execute_input": "2022-01-06T03:25:31.764536Z",
     "iopub.status.busy": "2022-01-06T03:25:31.764203Z",
     "iopub.status.idle": "2022-01-06T03:25:31.770959Z",
     "shell.execute_reply": "2022-01-06T03:25:31.769644Z",
     "shell.execute_reply.started": "2022-01-06T03:25:31.764453Z"
    },
    "jupyter": {
     "outputs_hidden": false
    }
   },
   "outputs": [
    {
     "name": "stdout",
     "output_type": "stream",
     "text": [
      "(1000, 8)\n"
     ]
    }
   ],
   "source": [
    "print (data.shape)"
   ]
  },
  {
   "cell_type": "code",
   "execution_count": 5,
   "metadata": {
    "_cell_guid": "59f80912-b939-41fa-b422-1f2cb8c5828b",
    "_uuid": "dde21032-f398-4772-9977-003874a6474c",
    "collapsed": false,
    "execution": {
     "iopub.execute_input": "2022-01-06T03:25:31.773493Z",
     "iopub.status.busy": "2022-01-06T03:25:31.773154Z",
     "iopub.status.idle": "2022-01-06T03:25:31.789462Z",
     "shell.execute_reply": "2022-01-06T03:25:31.788326Z",
     "shell.execute_reply.started": "2022-01-06T03:25:31.773437Z"
    },
    "jupyter": {
     "outputs_hidden": false
    }
   },
   "outputs": [
    {
     "name": "stdout",
     "output_type": "stream",
     "text": [
      "<class 'pandas.core.frame.DataFrame'>\n",
      "RangeIndex: 1000 entries, 0 to 999\n",
      "Data columns (total 8 columns):\n",
      "gender                         1000 non-null object\n",
      "race/ethnicity                 1000 non-null object\n",
      "parental level of education    1000 non-null object\n",
      "lunch                          1000 non-null object\n",
      "test preparation course        1000 non-null object\n",
      "math score                     1000 non-null int64\n",
      "reading score                  1000 non-null int64\n",
      "writing score                  1000 non-null int64\n",
      "dtypes: int64(3), object(5)\n",
      "memory usage: 62.6+ KB\n"
     ]
    }
   ],
   "source": [
    "data.info()"
   ]
  },
  {
   "cell_type": "code",
   "execution_count": 6,
   "metadata": {
    "_cell_guid": "f34ea9a9-f36a-47b9-b27d-a8c6852cace3",
    "_uuid": "0e64db36-7c0e-43b2-b92c-74f148797bd3",
    "collapsed": false,
    "execution": {
     "iopub.execute_input": "2022-01-06T03:25:31.791732Z",
     "iopub.status.busy": "2022-01-06T03:25:31.791347Z",
     "iopub.status.idle": "2022-01-06T03:25:31.807041Z",
     "shell.execute_reply": "2022-01-06T03:25:31.805974Z",
     "shell.execute_reply.started": "2022-01-06T03:25:31.791675Z"
    },
    "jupyter": {
     "outputs_hidden": false
    }
   },
   "outputs": [
    {
     "data": {
      "text/plain": [
       "gender                         0\n",
       "race/ethnicity                 0\n",
       "parental level of education    0\n",
       "lunch                          0\n",
       "test preparation course        0\n",
       "math score                     0\n",
       "reading score                  0\n",
       "writing score                  0\n",
       "dtype: int64"
      ]
     },
     "execution_count": 6,
     "metadata": {},
     "output_type": "execute_result"
    }
   ],
   "source": [
    "data.isnull().sum()"
   ]
  },
  {
   "cell_type": "code",
   "execution_count": 7,
   "metadata": {
    "execution": {
     "iopub.execute_input": "2022-01-06T03:25:31.808996Z",
     "iopub.status.busy": "2022-01-06T03:25:31.808556Z",
     "iopub.status.idle": "2022-01-06T03:25:31.848726Z",
     "shell.execute_reply": "2022-01-06T03:25:31.847458Z",
     "shell.execute_reply.started": "2022-01-06T03:25:31.808883Z"
    }
   },
   "outputs": [
    {
     "data": {
      "text/html": [
       "<div>\n",
       "<style scoped>\n",
       "    .dataframe tbody tr th:only-of-type {\n",
       "        vertical-align: middle;\n",
       "    }\n",
       "\n",
       "    .dataframe tbody tr th {\n",
       "        vertical-align: top;\n",
       "    }\n",
       "\n",
       "    .dataframe thead th {\n",
       "        text-align: right;\n",
       "    }\n",
       "</style>\n",
       "<table border=\"1\" class=\"dataframe\">\n",
       "  <thead>\n",
       "    <tr style=\"text-align: right;\">\n",
       "      <th></th>\n",
       "      <th>math score</th>\n",
       "      <th>reading score</th>\n",
       "      <th>writing score</th>\n",
       "    </tr>\n",
       "  </thead>\n",
       "  <tbody>\n",
       "    <tr>\n",
       "      <th>count</th>\n",
       "      <td>1000.00000</td>\n",
       "      <td>1000.000000</td>\n",
       "      <td>1000.000000</td>\n",
       "    </tr>\n",
       "    <tr>\n",
       "      <th>mean</th>\n",
       "      <td>66.08900</td>\n",
       "      <td>69.169000</td>\n",
       "      <td>68.054000</td>\n",
       "    </tr>\n",
       "    <tr>\n",
       "      <th>std</th>\n",
       "      <td>15.16308</td>\n",
       "      <td>14.600192</td>\n",
       "      <td>15.195657</td>\n",
       "    </tr>\n",
       "    <tr>\n",
       "      <th>min</th>\n",
       "      <td>0.00000</td>\n",
       "      <td>17.000000</td>\n",
       "      <td>10.000000</td>\n",
       "    </tr>\n",
       "    <tr>\n",
       "      <th>25%</th>\n",
       "      <td>57.00000</td>\n",
       "      <td>59.000000</td>\n",
       "      <td>57.750000</td>\n",
       "    </tr>\n",
       "    <tr>\n",
       "      <th>50%</th>\n",
       "      <td>66.00000</td>\n",
       "      <td>70.000000</td>\n",
       "      <td>69.000000</td>\n",
       "    </tr>\n",
       "    <tr>\n",
       "      <th>75%</th>\n",
       "      <td>77.00000</td>\n",
       "      <td>79.000000</td>\n",
       "      <td>79.000000</td>\n",
       "    </tr>\n",
       "    <tr>\n",
       "      <th>max</th>\n",
       "      <td>100.00000</td>\n",
       "      <td>100.000000</td>\n",
       "      <td>100.000000</td>\n",
       "    </tr>\n",
       "  </tbody>\n",
       "</table>\n",
       "</div>"
      ],
      "text/plain": [
       "       math score  reading score  writing score\n",
       "count  1000.00000    1000.000000    1000.000000\n",
       "mean     66.08900      69.169000      68.054000\n",
       "std      15.16308      14.600192      15.195657\n",
       "min       0.00000      17.000000      10.000000\n",
       "25%      57.00000      59.000000      57.750000\n",
       "50%      66.00000      70.000000      69.000000\n",
       "75%      77.00000      79.000000      79.000000\n",
       "max     100.00000     100.000000     100.000000"
      ]
     },
     "execution_count": 7,
     "metadata": {},
     "output_type": "execute_result"
    }
   ],
   "source": [
    "data.describe()"
   ]
  },
  {
   "cell_type": "code",
   "execution_count": 8,
   "metadata": {
    "execution": {
     "iopub.execute_input": "2022-01-06T03:25:32.141101Z",
     "iopub.status.busy": "2022-01-06T03:25:32.140727Z",
     "iopub.status.idle": "2022-01-06T03:25:32.289410Z",
     "shell.execute_reply": "2022-01-06T03:25:32.287826Z",
     "shell.execute_reply.started": "2022-01-06T03:25:32.141039Z"
    }
   },
   "outputs": [
    {
     "data": {
      "image/png": "[encoded data removed]",
      "text/plain": [
       "<Figure size 432x288 with 1 Axes>"
      ]
     },
     "metadata": {},
     "output_type": "display_data"
    }
   ],
   "source": [
    "gender_P = data.gender.value_counts()\n",
    "plt.title(\"Percentages of female and male students in the survey\")\n",
    "plt.pie(gender_P, labels=gender_P.index, autopct='%1.1f%%', startangle=90);"
   ]
  },
  {
   "cell_type": "code",
   "execution_count": 9,
   "metadata": {
    "_cell_guid": "0a85d34d-fab0-4454-b914-f67a15129f26",
    "_uuid": "bb94a5b6-9064-4c75-8eed-2dceb46cd2ea",
    "collapsed": false,
    "execution": {
     "iopub.execute_input": "2022-01-06T03:25:32.297674Z",
     "iopub.status.busy": "2022-01-06T03:25:32.297013Z",
     "iopub.status.idle": "2022-01-06T03:25:32.342208Z",
     "shell.execute_reply": "2022-01-06T03:25:32.341174Z",
     "shell.execute_reply.started": "2022-01-06T03:25:32.297605Z"
    },
    "jupyter": {
     "outputs_hidden": false
    }
   },
   "outputs": [
    {
     "data": {
      "text/html": [
       "<div>\n",
       "<style scoped>\n",
       "    .dataframe tbody tr th:only-of-type {\n",
       "        vertical-align: middle;\n",
       "    }\n",
       "\n",
       "    .dataframe tbody tr th {\n",
       "        vertical-align: top;\n",
       "    }\n",
       "\n",
       "    .dataframe thead th {\n",
       "        text-align: right;\n",
       "    }\n",
       "</style>\n",
       "<table border=\"1\" class=\"dataframe\">\n",
       "  <thead>\n",
       "    <tr style=\"text-align: right;\">\n",
       "      <th></th>\n",
       "      <th>gender</th>\n",
       "      <th>race/ethnicity</th>\n",
       "      <th>parental level of education</th>\n",
       "      <th>lunch</th>\n",
       "      <th>test preparation course</th>\n",
       "      <th>math score</th>\n",
       "      <th>reading score</th>\n",
       "      <th>writing score</th>\n",
       "      <th>Average</th>\n",
       "    </tr>\n",
       "  </thead>\n",
       "  <tbody>\n",
       "    <tr>\n",
       "      <th>0</th>\n",
       "      <td>female</td>\n",
       "      <td>group B</td>\n",
       "      <td>bachelor's degree</td>\n",
       "      <td>standard</td>\n",
       "      <td>none</td>\n",
       "      <td>72</td>\n",
       "      <td>72</td>\n",
       "      <td>74</td>\n",
       "      <td>72.666667</td>\n",
       "    </tr>\n",
       "    <tr>\n",
       "      <th>1</th>\n",
       "      <td>female</td>\n",
       "      <td>group C</td>\n",
       "      <td>some college</td>\n",
       "      <td>standard</td>\n",
       "      <td>completed</td>\n",
       "      <td>69</td>\n",
       "      <td>90</td>\n",
       "      <td>88</td>\n",
       "      <td>82.333333</td>\n",
       "    </tr>\n",
       "    <tr>\n",
       "      <th>2</th>\n",
       "      <td>female</td>\n",
       "      <td>group B</td>\n",
       "      <td>master's degree</td>\n",
       "      <td>standard</td>\n",
       "      <td>none</td>\n",
       "      <td>90</td>\n",
       "      <td>95</td>\n",
       "      <td>93</td>\n",
       "      <td>92.666667</td>\n",
       "    </tr>\n",
       "    <tr>\n",
       "      <th>3</th>\n",
       "      <td>male</td>\n",
       "      <td>group A</td>\n",
       "      <td>associate's degree</td>\n",
       "      <td>free/reduced</td>\n",
       "      <td>none</td>\n",
       "      <td>47</td>\n",
       "      <td>57</td>\n",
       "      <td>44</td>\n",
       "      <td>49.333333</td>\n",
       "    </tr>\n",
       "    <tr>\n",
       "      <th>4</th>\n",
       "      <td>male</td>\n",
       "      <td>group C</td>\n",
       "      <td>some college</td>\n",
       "      <td>standard</td>\n",
       "      <td>none</td>\n",
       "      <td>76</td>\n",
       "      <td>78</td>\n",
       "      <td>75</td>\n",
       "      <td>76.333333</td>\n",
       "    </tr>\n",
       "  </tbody>\n",
       "</table>\n",
       "</div>"
      ],
      "text/plain": [
       "   gender race/ethnicity    ...     writing score    Average\n",
       "0  female        group B    ...                74  72.666667\n",
       "1  female        group C    ...                88  82.333333\n",
       "2  female        group B    ...                93  92.666667\n",
       "3    male        group A    ...                44  49.333333\n",
       "4    male        group C    ...                75  76.333333\n",
       "\n",
       "[5 rows x 9 columns]"
      ]
     },
     "execution_count": 9,
     "metadata": {},
     "output_type": "execute_result"
    }
   ],
   "source": [
    "\n",
    "data[\"Average\"] = (data[\"math score\"] + data[\"reading score\"] + data[\"writing score\"]) / 3\n",
    "data.head()"
   ]
  },
  {
   "cell_type": "code",
   "execution_count": 10,
   "metadata": {
    "_cell_guid": "a11f48c6-c992-4052-9ef8-a2359b74fe36",
    "_uuid": "75862303-2f28-4d76-abeb-05971ea94cf8",
    "collapsed": false,
    "execution": {
     "iopub.execute_input": "2022-01-06T03:25:32.344384Z",
     "iopub.status.busy": "2022-01-06T03:25:32.343796Z",
     "iopub.status.idle": "2022-01-06T03:25:32.399029Z",
     "shell.execute_reply": "2022-01-06T03:25:32.398098Z",
     "shell.execute_reply.started": "2022-01-06T03:25:32.344322Z"
    },
    "jupyter": {
     "outputs_hidden": false
    }
   },
   "outputs": [
    {
     "data": {
      "text/html": [
       "<div>\n",
       "<style scoped>\n",
       "    .dataframe tbody tr th:only-of-type {\n",
       "        vertical-align: middle;\n",
       "    }\n",
       "\n",
       "    .dataframe tbody tr th {\n",
       "        vertical-align: top;\n",
       "    }\n",
       "\n",
       "    .dataframe thead th {\n",
       "        text-align: right;\n",
       "    }\n",
       "</style>\n",
       "<table border=\"1\" class=\"dataframe\">\n",
       "  <thead>\n",
       "    <tr style=\"text-align: right;\">\n",
       "      <th></th>\n",
       "      <th>gender</th>\n",
       "      <th>race/ethnicity</th>\n",
       "      <th>parental level of education</th>\n",
       "      <th>lunch</th>\n",
       "      <th>test preparation course</th>\n",
       "      <th>math score</th>\n",
       "      <th>reading score</th>\n",
       "      <th>writing score</th>\n",
       "      <th>Average</th>\n",
       "      <th>Grade_math</th>\n",
       "      <th>Grade_reading</th>\n",
       "      <th>Grade_writing</th>\n",
       "      <th>Overall_grade</th>\n",
       "    </tr>\n",
       "  </thead>\n",
       "  <tbody>\n",
       "    <tr>\n",
       "      <th>0</th>\n",
       "      <td>female</td>\n",
       "      <td>group B</td>\n",
       "      <td>bachelor's degree</td>\n",
       "      <td>standard</td>\n",
       "      <td>none</td>\n",
       "      <td>72</td>\n",
       "      <td>72</td>\n",
       "      <td>74</td>\n",
       "      <td>72.666667</td>\n",
       "      <td>C</td>\n",
       "      <td>C</td>\n",
       "      <td>C</td>\n",
       "      <td>C</td>\n",
       "    </tr>\n",
       "    <tr>\n",
       "      <th>1</th>\n",
       "      <td>female</td>\n",
       "      <td>group C</td>\n",
       "      <td>some college</td>\n",
       "      <td>standard</td>\n",
       "      <td>completed</td>\n",
       "      <td>69</td>\n",
       "      <td>90</td>\n",
       "      <td>88</td>\n",
       "      <td>82.333333</td>\n",
       "      <td>D</td>\n",
       "      <td>A</td>\n",
       "      <td>B</td>\n",
       "      <td>B</td>\n",
       "    </tr>\n",
       "    <tr>\n",
       "      <th>2</th>\n",
       "      <td>female</td>\n",
       "      <td>group B</td>\n",
       "      <td>master's degree</td>\n",
       "      <td>standard</td>\n",
       "      <td>none</td>\n",
       "      <td>90</td>\n",
       "      <td>95</td>\n",
       "      <td>93</td>\n",
       "      <td>92.666667</td>\n",
       "      <td>A</td>\n",
       "      <td>A</td>\n",
       "      <td>A</td>\n",
       "      <td>A</td>\n",
       "    </tr>\n",
       "    <tr>\n",
       "      <th>3</th>\n",
       "      <td>male</td>\n",
       "      <td>group A</td>\n",
       "      <td>associate's degree</td>\n",
       "      <td>free/reduced</td>\n",
       "      <td>none</td>\n",
       "      <td>47</td>\n",
       "      <td>57</td>\n",
       "      <td>44</td>\n",
       "      <td>49.333333</td>\n",
       "      <td>F</td>\n",
       "      <td>D</td>\n",
       "      <td>F</td>\n",
       "      <td>F</td>\n",
       "    </tr>\n",
       "    <tr>\n",
       "      <th>4</th>\n",
       "      <td>male</td>\n",
       "      <td>group C</td>\n",
       "      <td>some college</td>\n",
       "      <td>standard</td>\n",
       "      <td>none</td>\n",
       "      <td>76</td>\n",
       "      <td>78</td>\n",
       "      <td>75</td>\n",
       "      <td>76.333333</td>\n",
       "      <td>C</td>\n",
       "      <td>C</td>\n",
       "      <td>C</td>\n",
       "      <td>C</td>\n",
       "    </tr>\n",
       "  </tbody>\n",
       "</table>\n",
       "</div>"
      ],
      "text/plain": [
       "   gender race/ethnicity      ...      Grade_writing Overall_grade\n",
       "0  female        group B      ...                  C             C\n",
       "1  female        group C      ...                  B             B\n",
       "2  female        group B      ...                  A             A\n",
       "3    male        group A      ...                  F             F\n",
       "4    male        group C      ...                  C             C\n",
       "\n",
       "[5 rows x 13 columns]"
      ]
     },
     "execution_count": 10,
     "metadata": {},
     "output_type": "execute_result"
    }
   ],
   "source": [
    "def Grade(a):\n",
    "    if a >= 90:\n",
    "        grade = 'A'\n",
    "    elif a >= 80:\n",
    "        grade = 'B'\n",
    "    elif a >= 70:\n",
    "        grade = 'C'\n",
    "    elif a >= 50:\n",
    "        grade = 'D'\n",
    "    else:\n",
    "        grade = 'F'\n",
    "    return grade\n",
    "        \n",
    "        \n",
    "data[\"Grade_math\"] = data[\"math score\"].apply(lambda s: Grade(s))\n",
    "data[\"Grade_reading\"] = data[\"reading score\"].apply(lambda s: Grade(s))\n",
    "data[\"Grade_writing\"] = data[\"writing score\"].apply(lambda s: Grade(s))\n",
    "data[\"Overall_grade\"] = data[\"Average\"].apply(lambda s: Grade(s))\n",
    "data.head()"
   ]
  },
  {
   "cell_type": "code",
   "execution_count": 11,
   "metadata": {
    "_cell_guid": "4753a26a-c1ce-4177-9417-7a0734a4122f",
    "_uuid": "34fdde82-6594-4b38-ac5a-36c26d026ab5",
    "collapsed": false,
    "execution": {
     "iopub.execute_input": "2022-01-06T03:25:32.400926Z",
     "iopub.status.busy": "2022-01-06T03:25:32.400601Z",
     "iopub.status.idle": "2022-01-06T03:25:32.412912Z",
     "shell.execute_reply": "2022-01-06T03:25:32.411676Z",
     "shell.execute_reply.started": "2022-01-06T03:25:32.400871Z"
    },
    "jupyter": {
     "outputs_hidden": false
    }
   },
   "outputs": [
    {
     "data": {
      "text/plain": [
       "D    456\n",
       "C    216\n",
       "B    135\n",
       "F    135\n",
       "A     58\n",
       "Name: Grade_math, dtype: int64"
      ]
     },
     "execution_count": 11,
     "metadata": {},
     "output_type": "execute_result"
    }
   ],
   "source": [
    "data.Grade_math.value_counts()"
   ]
  },
  {
   "cell_type": "code",
   "execution_count": 12,
   "metadata": {
    "_cell_guid": "4ee87d2b-5c58-44c8-8787-16456d3dd42a",
    "_uuid": "ec9ed82b-dec1-40c3-a44e-a74bd5d4fa3f",
    "collapsed": false,
    "execution": {
     "iopub.execute_input": "2022-01-06T03:25:32.414949Z",
     "iopub.status.busy": "2022-01-06T03:25:32.414491Z",
     "iopub.status.idle": "2022-01-06T03:25:32.643582Z",
     "shell.execute_reply": "2022-01-06T03:25:32.641918Z",
     "shell.execute_reply.started": "2022-01-06T03:25:32.414761Z"
    },
    "jupyter": {
     "outputs_hidden": false
    }
   },
   "outputs": [
    {
     "data": {
      "image/png": "[encoded data removed]",
      "text/plain": [
       "<Figure size 432x288 with 1 Axes>"
      ]
     },
     "metadata": {},
     "output_type": "display_data"
    }
   ],
   "source": [
    "order_grade = [\"A\",\"B\",\"C\",\"D\",\"E\",\"F\"]\n",
    "sns.countplot(x = \"Grade_math\", data = data, order = order_grade, palette = \"GnBu_d\")\n",
    "_ = plt.xlabel(\"Grades in Math\")"
   ]
  },
  {
   "cell_type": "code",
   "execution_count": 13,
   "metadata": {
    "_cell_guid": "b3b0be4c-1d3e-44d3-975e-e2027cc892f0",
    "_uuid": "87410e56-b9f0-4051-b37d-0107a30e50f6",
    "collapsed": false,
    "execution": {
     "iopub.execute_input": "2022-01-06T03:25:32.646231Z",
     "iopub.status.busy": "2022-01-06T03:25:32.645830Z",
     "iopub.status.idle": "2022-01-06T03:25:32.659032Z",
     "shell.execute_reply": "2022-01-06T03:25:32.658029Z",
     "shell.execute_reply.started": "2022-01-06T03:25:32.646158Z"
    },
    "jupyter": {
     "outputs_hidden": false
    }
   },
   "outputs": [
    {
     "data": {
      "text/plain": [
       "D    397\n",
       "C    264\n",
       "B    170\n",
       "F     90\n",
       "A     79\n",
       "Name: Grade_reading, dtype: int64"
      ]
     },
     "execution_count": 13,
     "metadata": {},
     "output_type": "execute_result"
    }
   ],
   "source": [
    "data.Grade_reading.value_counts()"
   ]
  },
  {
   "cell_type": "code",
   "execution_count": 14,
   "metadata": {
    "_cell_guid": "b5792f77-126c-4f66-9eff-fe360201023e",
    "_uuid": "2f1f57fd-9e0b-45a7-94b4-78c58cfee720",
    "collapsed": false,
    "execution": {
     "iopub.execute_input": "2022-01-06T03:25:32.661492Z",
     "iopub.status.busy": "2022-01-06T03:25:32.660810Z",
     "iopub.status.idle": "2022-01-06T03:25:32.924336Z",
     "shell.execute_reply": "2022-01-06T03:25:32.923280Z",
     "shell.execute_reply.started": "2022-01-06T03:25:32.661428Z"
    },
    "jupyter": {
     "outputs_hidden": false
    }
   },
   "outputs": [
    {
     "data": {
      "image/png": "[encoded data removed]",
      "text/plain": [
       "<Figure size 432x288 with 1 Axes>"
      ]
     },
     "metadata": {},
     "output_type": "display_data"
    }
   ],
   "source": [
    "sns.countplot(x= \"Grade_reading\",data = data, order = order_grade, palette = \"GnBu_d\")\n",
    "_ = plt.xlabel(\"Grades in reading\")"
   ]
  },
  {
   "cell_type": "code",
   "execution_count": 15,
   "metadata": {
    "_cell_guid": "a395c2a6-02cd-4b4d-a78b-9e3734ec3b10",
    "_uuid": "1b695be8-742a-4f49-9f26-776956bf8440",
    "collapsed": false,
    "execution": {
     "iopub.execute_input": "2022-01-06T03:25:32.926589Z",
     "iopub.status.busy": "2022-01-06T03:25:32.925995Z",
     "iopub.status.idle": "2022-01-06T03:25:33.197364Z",
     "shell.execute_reply": "2022-01-06T03:25:33.196226Z",
     "shell.execute_reply.started": "2022-01-06T03:25:32.926525Z"
    },
    "jupyter": {
     "outputs_hidden": false
    }
   },
   "outputs": [
    {
     "data": {
      "image/png": "[encoded data removed]",
      "text/plain": [
       "<Figure size 432x288 with 1 Axes>"
      ]
     },
     "metadata": {},
     "output_type": "display_data"
    }
   ],
   "source": [
    "sns.countplot(x = 'Grade_writing', order = order_grade, data = data, palette =\"GnBu_d\")\n",
    "_ = plt.xlabel(\"writing score\")"
   ]
  },
  {
   "cell_type": "code",
   "execution_count": 16,
   "metadata": {
    "_cell_guid": "57f1478a-ab48-4aaf-be5d-e59bd61f32bc",
    "_uuid": "f8602a57-8ec8-4326-9c2c-57efcf7978f2",
    "collapsed": false,
    "execution": {
     "iopub.execute_input": "2022-01-06T03:25:33.199835Z",
     "iopub.status.busy": "2022-01-06T03:25:33.199187Z",
     "iopub.status.idle": "2022-01-06T03:25:33.213682Z",
     "shell.execute_reply": "2022-01-06T03:25:33.212251Z",
     "shell.execute_reply.started": "2022-01-06T03:25:33.199766Z"
    },
    "jupyter": {
     "outputs_hidden": false
    }
   },
   "outputs": [
    {
     "data": {
      "text/plain": [
       "D    438\n",
       "C    261\n",
       "B    146\n",
       "F    103\n",
       "A     52\n",
       "Name: Overall_grade, dtype: int64"
      ]
     },
     "execution_count": 16,
     "metadata": {},
     "output_type": "execute_result"
    }
   ],
   "source": [
    "data.Overall_grade.value_counts()"
   ]
  },
  {
   "cell_type": "code",
   "execution_count": 17,
   "metadata": {
    "_cell_guid": "beb2abbf-99e1-4320-8f3f-370c1cda027e",
    "_uuid": "249d1775-8e15-469e-a63d-80b170d43b71",
    "collapsed": false,
    "execution": {
     "iopub.execute_input": "2022-01-06T03:25:33.216213Z",
     "iopub.status.busy": "2022-01-06T03:25:33.215403Z",
     "iopub.status.idle": "2022-01-06T03:25:33.447285Z",
     "shell.execute_reply": "2022-01-06T03:25:33.446255Z",
     "shell.execute_reply.started": "2022-01-06T03:25:33.216144Z"
    },
    "jupyter": {
     "outputs_hidden": false
    }
   },
   "outputs": [
    {
     "data": {
      "image/png": "[encoded data removed]",
      "text/plain": [
       "<Figure size 432x288 with 1 Axes>"
      ]
     },
     "metadata": {},
     "output_type": "display_data"
    }
   ],
   "source": [
    "sns.countplot(x = 'Overall_grade', order = order_grade, data = data, palette =\"GnBu_d\")\n",
    "_ = plt.xlabel(\"Overall Grade\")"
   ]
  },
  {
   "cell_type": "code",
   "execution_count": 18,
   "metadata": {
    "_cell_guid": "ea319eb5-edd2-424f-aa31-5418ff0e643e",
    "_uuid": "6e23a9fd-bdf8-4d99-bae5-5804a4f5f544",
    "collapsed": false,
    "execution": {
     "iopub.execute_input": "2022-01-06T03:25:33.449439Z",
     "iopub.status.busy": "2022-01-06T03:25:33.448891Z",
     "iopub.status.idle": "2022-01-06T03:25:33.457188Z",
     "shell.execute_reply": "2022-01-06T03:25:33.456200Z",
     "shell.execute_reply.started": "2022-01-06T03:25:33.449378Z"
    },
    "jupyter": {
     "outputs_hidden": false
    }
   },
   "outputs": [
    {
     "name": "stdout",
     "output_type": "stream",
     "text": [
      "0.9545980771462476\n"
     ]
    }
   ],
   "source": [
    "r = np.corrcoef(data[\"reading score\"], data[\"writing score\"])[0, 1]\n",
    "print(r)"
   ]
  },
  {
   "cell_type": "code",
   "execution_count": 19,
   "metadata": {
    "execution": {
     "iopub.execute_input": "2022-01-06T03:25:33.459397Z",
     "iopub.status.busy": "2022-01-06T03:25:33.458796Z",
     "iopub.status.idle": "2022-01-06T03:25:33.805545Z",
     "shell.execute_reply": "2022-01-06T03:25:33.804506Z",
     "shell.execute_reply.started": "2022-01-06T03:25:33.459331Z"
    }
   },
   "outputs": [
    {
     "data": {
      "text/plain": [
       "<seaborn.axisgrid.FacetGrid at 0x7f6d8fd157f0>"
      ]
     },
     "execution_count": 19,
     "metadata": {},
     "output_type": "execute_result"
    },
    {
     "data": {
      "image/png": "[encoded data removed]",
      "text/plain": [
       "<Figure size 360x360 with 1 Axes>"
      ]
     },
     "metadata": {},
     "output_type": "display_data"
    }
   ],
   "source": [
    "sns.relplot(x='writing score', y = 'reading score', data = data)"
   ]
  },
  {
   "cell_type": "code",
   "execution_count": 20,
   "metadata": {
    "_cell_guid": "2f4d50da-5b95-489c-9f6a-5be656cf4e45",
    "_uuid": "727d85fa-92f2-4bc6-83df-287f55f98c10",
    "collapsed": false,
    "execution": {
     "iopub.execute_input": "2022-01-06T03:25:33.807744Z",
     "iopub.status.busy": "2022-01-06T03:25:33.807136Z",
     "iopub.status.idle": "2022-01-06T03:25:33.819577Z",
     "shell.execute_reply": "2022-01-06T03:25:33.818568Z",
     "shell.execute_reply.started": "2022-01-06T03:25:33.807681Z"
    },
    "jupyter": {
     "outputs_hidden": false
    }
   },
   "outputs": [
    {
     "data": {
      "text/plain": [
       "group C    319\n",
       "group D    262\n",
       "group B    190\n",
       "group E    140\n",
       "group A     89\n",
       "Name: race/ethnicity, dtype: int64"
      ]
     },
     "execution_count": 20,
     "metadata": {},
     "output_type": "execute_result"
    }
   ],
   "source": [
    "data[\"race/ethnicity\"].value_counts()"
   ]
  },
  {
   "cell_type": "code",
   "execution_count": 21,
   "metadata": {
    "_cell_guid": "60976958-4c11-4a94-b740-209dab0a50f2",
    "_uuid": "461e2e61-b6f1-47d9-8c01-713d49e9958b",
    "collapsed": false,
    "execution": {
     "iopub.execute_input": "2022-01-06T03:25:33.822829Z",
     "iopub.status.busy": "2022-01-06T03:25:33.821799Z",
     "iopub.status.idle": "2022-01-06T03:25:33.838279Z",
     "shell.execute_reply": "2022-01-06T03:25:33.836422Z",
     "shell.execute_reply.started": "2022-01-06T03:25:33.822753Z"
    },
    "jupyter": {
     "outputs_hidden": false
    }
   },
   "outputs": [
    {
     "data": {
      "text/plain": [
       "standard        645\n",
       "free/reduced    355\n",
       "Name: lunch, dtype: int64"
      ]
     },
     "execution_count": 21,
     "metadata": {},
     "output_type": "execute_result"
    }
   ],
   "source": [
    "data[\"lunch\"].value_counts()"
   ]
  },
  {
   "cell_type": "code",
   "execution_count": 22,
   "metadata": {
    "_cell_guid": "33fb1a07-dd12-42ac-b17b-0ed43fe1ac20",
    "_uuid": "c4a1f66e-6af5-497d-9bde-9a05bef5f770",
    "collapsed": false,
    "execution": {
     "iopub.execute_input": "2022-01-06T03:25:33.842584Z",
     "iopub.status.busy": "2022-01-06T03:25:33.841124Z",
     "iopub.status.idle": "2022-01-06T03:25:34.184769Z",
     "shell.execute_reply": "2022-01-06T03:25:34.183668Z",
     "shell.execute_reply.started": "2022-01-06T03:25:33.841491Z"
    },
    "jupyter": {
     "outputs_hidden": false
    }
   },
   "outputs": [
    {
     "data": {
      "text/plain": [
       "<matplotlib.axes._subplots.AxesSubplot at 0x7f6d983b3588>"
      ]
     },
     "execution_count": 22,
     "metadata": {},
     "output_type": "execute_result"
    },
    {
     "data": {
      "image/png": "[encoded data removed]",
      "text/plain": [
       "<Figure size 432x288 with 1 Axes>"
      ]
     },
     "metadata": {},
     "output_type": "display_data"
    }
   ],
   "source": [
    "sns.countplot(x = \"lunch\", data = data, hue = \"Overall_grade\", hue_order = [\"A\",\"B\",\"C\",\"D\",\"E\",\"F\"], palette = \"GnBu_d\")"
   ]
  },
  {
   "cell_type": "code",
   "execution_count": 23,
   "metadata": {
    "_cell_guid": "416411f1-4d3f-4713-a993-fcebd0d97b58",
    "_uuid": "f194e2d1-08ab-41e6-8b10-edf4acb0cbec",
    "collapsed": false,
    "execution": {
     "iopub.execute_input": "2022-01-06T03:25:34.193526Z",
     "iopub.status.busy": "2022-01-06T03:25:34.190381Z",
     "iopub.status.idle": "2022-01-06T03:25:34.208770Z",
     "shell.execute_reply": "2022-01-06T03:25:34.207557Z",
     "shell.execute_reply.started": "2022-01-06T03:25:34.190975Z"
    },
    "jupyter": {
     "outputs_hidden": false
    }
   },
   "outputs": [
    {
     "data": {
      "text/plain": [
       "none         642\n",
       "completed    358\n",
       "Name: test preparation course, dtype: int64"
      ]
     },
     "execution_count": 23,
     "metadata": {},
     "output_type": "execute_result"
    }
   ],
   "source": [
    "data[\"test preparation course\"].value_counts()"
   ]
  },
  {
   "cell_type": "code",
   "execution_count": 24,
   "metadata": {
    "_cell_guid": "aee1b829-44ac-40ee-b862-547f0c398a49",
    "_uuid": "db720d7f-a469-4c7e-a536-dbae0a2af7ef",
    "collapsed": false,
    "execution": {
     "iopub.execute_input": "2022-01-06T03:25:34.211246Z",
     "iopub.status.busy": "2022-01-06T03:25:34.210797Z",
     "iopub.status.idle": "2022-01-06T03:25:34.540943Z",
     "shell.execute_reply": "2022-01-06T03:25:34.539607Z",
     "shell.execute_reply.started": "2022-01-06T03:25:34.211162Z"
    },
    "jupyter": {
     "outputs_hidden": false
    }
   },
   "outputs": [
    {
     "data": {
      "image/png": "[encoded data removed]",
      "text/plain": [
       "<Figure size 432x288 with 1 Axes>"
      ]
     },
     "metadata": {},
     "output_type": "display_data"
    }
   ],
   "source": [
    "sns.countplot(x = \"test preparation course\", hue = \"Overall_grade\",data = data, hue_order = order_grade, palette = 'GnBu_d')\n",
    "_ = plt.legend()"
   ]
  },
  {
   "cell_type": "code",
   "execution_count": 25,
   "metadata": {
    "_cell_guid": "0081e94f-b689-4717-8aef-0583998f7b54",
    "_uuid": "f0b88142-7e30-44f6-962c-81fe75aba0bd",
    "collapsed": false,
    "execution": {
     "iopub.execute_input": "2022-01-06T03:25:34.544131Z",
     "iopub.status.busy": "2022-01-06T03:25:34.543453Z",
     "iopub.status.idle": "2022-01-06T03:25:34.564875Z",
     "shell.execute_reply": "2022-01-06T03:25:34.563781Z",
     "shell.execute_reply.started": "2022-01-06T03:25:34.544069Z"
    },
    "jupyter": {
     "outputs_hidden": false
    }
   },
   "outputs": [
    {
     "data": {
      "text/plain": [
       "some college          226\n",
       "associate's degree    222\n",
       "high school           196\n",
       "some high school      179\n",
       "bachelor's degree     118\n",
       "master's degree        59\n",
       "Name: parental level of education, dtype: int64"
      ]
     },
     "execution_count": 25,
     "metadata": {},
     "output_type": "execute_result"
    }
   ],
   "source": [
    "data[\"parental level of education\"].value_counts()"
   ]
  },
  {
   "cell_type": "code",
   "execution_count": 26,
   "metadata": {
    "execution": {
     "iopub.execute_input": "2022-01-06T03:31:57.422091Z",
     "iopub.status.busy": "2022-01-06T03:31:57.421622Z",
     "iopub.status.idle": "2022-01-06T03:31:57.430929Z",
     "shell.execute_reply": "2022-01-06T03:31:57.430214Z",
     "shell.execute_reply.started": "2022-01-06T03:31:57.421999Z"
    }
   },
   "outputs": [
    {
     "data": {
      "text/plain": [
       "none         642\n",
       "completed    358\n",
       "Name: test preparation course, dtype: int64"
      ]
     },
     "execution_count": 26,
     "metadata": {},
     "output_type": "execute_result"
    }
   ],
   "source": [
    "data[\"test preparation course\"].value_counts()"
   ]
  },
  {
   "cell_type": "code",
   "execution_count": 27,
   "metadata": {
    "execution": {
     "iopub.execute_input": "2022-01-06T03:32:01.698062Z",
     "iopub.status.busy": "2022-01-06T03:32:01.697743Z",
     "iopub.status.idle": "2022-01-06T03:32:02.210885Z",
     "shell.execute_reply": "2022-01-06T03:32:02.209634Z",
     "shell.execute_reply.started": "2022-01-06T03:32:01.698010Z"
    }
   },
   "outputs": [
    {
     "data": {
      "text/plain": [
       "<matplotlib.axes._subplots.AxesSubplot at 0x7f6d8fb74550>"
      ]
     },
     "execution_count": 27,
     "metadata": {},
     "output_type": "execute_result"
    },
    {
     "data": {
      "image/png": "[encoded data removed]",
      "text/plain": [
       "<Figure size 432x288 with 1 Axes>"
      ]
     },
     "metadata": {},
     "output_type": "display_data"
    }
   ],
   "source": [
    "sns.boxenplot(x='test preparation course', y='Average',data = data, palette = \"hls\")"
   ]
  },
  {
   "cell_type": "code",
   "execution_count": 28,
   "metadata": {
    "_cell_guid": "1b756a90-cb0a-4462-a72e-a2bd1bc53a12",
    "_uuid": "509f1211-ccaa-4272-9822-f80c91d3c0ee",
    "collapsed": false,
    "execution": {
     "iopub.execute_input": "2022-01-06T03:25:34.570476Z",
     "iopub.status.busy": "2022-01-06T03:25:34.566782Z",
     "iopub.status.idle": "2022-01-06T03:25:35.053061Z",
     "shell.execute_reply": "2022-01-06T03:25:35.052360Z",
     "shell.execute_reply.started": "2022-01-06T03:25:34.570398Z"
    },
    "jupyter": {
     "outputs_hidden": false
    }
   },
   "outputs": [
    {
     "data": {
      "image/png": "[encoded data removed]",
      "text/plain": [
       "<Figure size 432x288 with 1 Axes>"
      ]
     },
     "metadata": {},
     "output_type": "display_data"
    }
   ],
   "source": [
    "order_edu = ['some high school','high school',\"associate's degree\",\"some college\",\"bachelor's degree\",\"master's degree\"]\n",
    "p = sns.countplot(x='parental level of education', hue='Overall_grade',data=data, order= order_edu, hue_order = order_grade, palette = 'Paired')\n",
    "_ = plt.xlabel('Parents level of education')\n",
    "_ = plt.setp(p.get_xticklabels(), rotation = 60)"
   ]
  },
  {
   "cell_type": "code",
   "execution_count": 29,
   "metadata": {
    "_cell_guid": "575a3a1d-abbc-461c-8cff-c0b6ceb4b7dc",
    "_uuid": "13143934-3f28-4cf6-a3dc-db8f925fa07c",
    "collapsed": false,
    "execution": {
     "iopub.execute_input": "2022-01-06T03:36:46.737101Z",
     "iopub.status.busy": "2022-01-06T03:36:46.736774Z",
     "iopub.status.idle": "2022-01-06T03:36:47.349505Z",
     "shell.execute_reply": "2022-01-06T03:36:47.348027Z",
     "shell.execute_reply.started": "2022-01-06T03:36:46.737041Z"
    },
    "jupyter": {
     "outputs_hidden": false
    }
   },
   "outputs": [
    {
     "data": {
      "text/plain": [
       "<matplotlib.legend.Legend at 0x7f6d8f9ad978>"
      ]
     },
     "execution_count": 29,
     "metadata": {},
     "output_type": "execute_result"
    },
    {
     "data": {
      "image/png": "[encoded data removed]",
      "text/plain": [
       "<Figure size 1296x864 with 2 Axes>"
      ]
     },
     "metadata": {},
     "output_type": "display_data"
    }
   ],
   "source": [
    "passmarks = 49\n",
    "plt.rcParams['figure.figsize'] =(18,12)\n",
    "\n",
    "#creating a new column pass*** this will tell us whether the student are pass or fail\n",
    "data['pass_math']=np.where(data['math score']<passmarks,'Fail','success')\n",
    "data['pass_reading']=np.where(data['reading score']<passmarks,'Fail','success')\n",
    "data['pass_writing']=np.where(data['writing score']<passmarks,'Fail','success')\n",
    "data['pass_Overall']=np.where(data['Average']<passmarks,'Fail','success')\n",
    "\n",
    "#represent the ratio of pass and fail \n",
    "size = data['pass_math'].value_counts()\n",
    "colors = plt.cm.Reds(np.linspace(0,1,5))\n",
    "labels = \"success\",\"fail\"\n",
    "explode = [0,0.2]\n",
    "plt.subplot(1,2,1)\n",
    "plt.pie(size,colors = colors, labels = labels, autopct = '%.2f%%', explode = explode, shadow = True)\n",
    "plt.title('Students Result for math       ', fontsize = 20)\n",
    "plt.legend()\n",
    "\n",
    "#represent the ratio of pass and fail \n",
    "size = data['pass_reading'].value_counts()\n",
    "colors = plt.cm.Blues(np.linspace(0,1,3))\n",
    "labels = \"success\",\"fail\"\n",
    "explode = [0,0.2]\n",
    "plt.subplot(1,2,2)\n",
    "plt.pie(size,colors = colors, labels = labels, autopct = '%.2f%%', explode = explode, shadow = True)\n",
    "plt.title('Students Result for reading        ', fontsize = 20)\n",
    "plt.legend()\n",
    "\n"
   ]
  },
  {
   "cell_type": "code",
   "execution_count": 30,
   "metadata": {
    "execution": {
     "iopub.execute_input": "2022-01-06T03:37:08.130856Z",
     "iopub.status.busy": "2022-01-06T03:37:08.130497Z",
     "iopub.status.idle": "2022-01-06T03:37:08.942879Z",
     "shell.execute_reply": "2022-01-06T03:37:08.941732Z",
     "shell.execute_reply.started": "2022-01-06T03:37:08.130812Z"
    }
   },
   "outputs": [
    {
     "data": {
      "image/png": "[encoded data removed]",
      "text/plain": [
       "<Figure size 1296x864 with 1 Axes>"
      ]
     },
     "metadata": {},
     "output_type": "display_data"
    },
    {
     "data": {
      "text/plain": [
       "<matplotlib.legend.Legend at 0x7f6d8f95fba8>"
      ]
     },
     "execution_count": 30,
     "metadata": {},
     "output_type": "execute_result"
    },
    {
     "data": {
      "image/png": "[encoded data removed]",
      "text/plain": [
       "<Figure size 1296x864 with 1 Axes>"
      ]
     },
     "metadata": {},
     "output_type": "display_data"
    }
   ],
   "source": [
    "#represent the ratio of pass and fail \n",
    "size = data['pass_writing'].value_counts()\n",
    "colors = plt.cm.Reds(np.linspace(0,1,3))\n",
    "labels = \"success\",\"fail\"\n",
    "explode = [0,0.2]\n",
    "plt.subplot(1,2,1)\n",
    "plt.pie(size,colors = colors, labels = labels, autopct = '%.2f%%', explode = explode, shadow = True)\n",
    "plt.title('Students Result for writing     ', fontsize = 20)\n",
    "plt.legend()\n",
    "plt.show()\n",
    "#represent the ratio of pass and fail \n",
    "size = data['pass_Overall'].value_counts()\n",
    "colors = plt.cm.Reds(np.linspace(0,1,3))\n",
    "labels = \"success\",\"fail\"\n",
    "explode = [0,0.2]\n",
    "plt.subplot(1,2,2)\n",
    "plt.pie(size,colors = colors, labels = labels, autopct = '%.2f%%', explode = explode, shadow = True)\n",
    "plt.title('Students Result for pass_Overall  ', fontsize = 20)\n",
    "plt.legend()\n"
   ]
  },
  {
   "cell_type": "code",
   "execution_count": 31,
   "metadata": {
    "execution": {
     "iopub.execute_input": "2022-01-06T03:25:37.009773Z",
     "iopub.status.busy": "2022-01-06T03:25:37.009425Z",
     "iopub.status.idle": "2022-01-06T03:25:37.447057Z",
     "shell.execute_reply": "2022-01-06T03:25:37.446347Z",
     "shell.execute_reply.started": "2022-01-06T03:25:37.009715Z"
    }
   },
   "outputs": [
    {
     "data": {
      "text/plain": [
       "<matplotlib.axes._subplots.AxesSubplot at 0x7f6d8fb74a20>"
      ]
     },
     "execution_count": 31,
     "metadata": {},
     "output_type": "execute_result"
    },
    {
     "data": {
      "image/png": "[encoded data removed]",
      "text/plain": [
       "<Figure size 1296x864 with 1 Axes>"
      ]
     },
     "metadata": {},
     "output_type": "display_data"
    }
   ],
   "source": [
    "sns.boxenplot(x=\"race/ethnicity\", y=\"Average\", data=data)"
   ]
  },
  {
   "cell_type": "markdown",
   "metadata": {
    "_cell_guid": "6b025f86-62ca-4c83-aa35-7aba996277f5",
    "_uuid": "89c0ea6c-ce1d-4309-a279-6c0416939c36"
   },
   "source": [
    "## Preprocessing"
   ]
  },
  {
   "cell_type": "code",
   "execution_count": 32,
   "metadata": {
    "_cell_guid": "fc4db1d3-3a32-4f35-a2ce-4b939851373a",
    "_uuid": "530fc209-76a3-4099-b489-0577cef80de6",
    "collapsed": false,
    "execution": {
     "iopub.execute_input": "2022-01-06T03:37:16.166025Z",
     "iopub.status.busy": "2022-01-06T03:37:16.165428Z",
     "iopub.status.idle": "2022-01-06T03:37:16.172559Z",
     "shell.execute_reply": "2022-01-06T03:37:16.171690Z",
     "shell.execute_reply.started": "2022-01-06T03:37:16.165956Z"
    },
    "jupyter": {
     "outputs_hidden": false
    }
   },
   "outputs": [],
   "source": [
    "from sklearn import preprocessing\n",
    "le = preprocessing.LabelEncoder()\n",
    "\n",
    "#label encoding for test preparation course \n",
    "data['test preparation course'] = le.fit_transform(data['test preparation course'])\n",
    "#label encoding for lunch\n",
    "data['lunch'] = le.fit_transform(data['lunch'])"
   ]
  },
  {
   "cell_type": "code",
   "execution_count": 33,
   "metadata": {
    "_cell_guid": "14b8dc48-01c8-4c8c-b026-738734bd2320",
    "_uuid": "a586cecc-64ff-4679-80a3-3097a651accc",
    "collapsed": false,
    "execution": {
     "iopub.execute_input": "2022-01-06T03:25:37.460771Z",
     "iopub.status.busy": "2022-01-06T03:25:37.460436Z",
     "iopub.status.idle": "2022-01-06T03:25:37.481450Z",
     "shell.execute_reply": "2022-01-06T03:25:37.479852Z",
     "shell.execute_reply.started": "2022-01-06T03:25:37.460717Z"
    },
    "jupyter": {
     "outputs_hidden": false
    }
   },
   "outputs": [
    {
     "data": {
      "text/plain": [
       "3    319\n",
       "4    262\n",
       "2    190\n",
       "5    140\n",
       "1     89\n",
       "Name: race/ethnicity, dtype: int64"
      ]
     },
     "execution_count": 33,
     "metadata": {},
     "output_type": "execute_result"
    }
   ],
   "source": [
    "data['race/ethnicity'] = data['race/ethnicity'].replace('group A',1)\n",
    "data['race/ethnicity'] = data['race/ethnicity'].replace('group B',2)\n",
    "data['race/ethnicity'] = data['race/ethnicity'].replace('group C',3)\n",
    "data['race/ethnicity'] = data['race/ethnicity'].replace('group D',4)\n",
    "data['race/ethnicity'] = data['race/ethnicity'].replace('group E',5)\n",
    "data['race/ethnicity'].value_counts()"
   ]
  },
  {
   "cell_type": "code",
   "execution_count": 34,
   "metadata": {
    "_cell_guid": "f4875eda-e214-462e-97fa-cc46ca3392a0",
    "_uuid": "0f90b5af-bcc8-4cbf-a396-1c484c5c0cf6",
    "collapsed": false,
    "execution": {
     "iopub.execute_input": "2022-01-06T03:25:37.483787Z",
     "iopub.status.busy": "2022-01-06T03:25:37.483465Z",
     "iopub.status.idle": "2022-01-06T03:25:37.496103Z",
     "shell.execute_reply": "2022-01-06T03:25:37.494871Z",
     "shell.execute_reply.started": "2022-01-06T03:25:37.483729Z"
    },
    "jupyter": {
     "outputs_hidden": false
    }
   },
   "outputs": [
    {
     "data": {
      "text/plain": [
       "4    226\n",
       "0    222\n",
       "2    196\n",
       "5    179\n",
       "1    118\n",
       "3     59\n",
       "Name: parental level of education, dtype: int64"
      ]
     },
     "execution_count": 34,
     "metadata": {},
     "output_type": "execute_result"
    }
   ],
   "source": [
    "data['parental level of education'] = le.fit_transform(data['parental level of education'])\n",
    "data['parental level of education'].value_counts()"
   ]
  },
  {
   "cell_type": "code",
   "execution_count": 35,
   "metadata": {
    "_cell_guid": "aa6e0179-46ae-43a2-87b6-a7d78c912885",
    "_uuid": "9ee2a49f-d9ac-494e-b4cf-32d1ad682129",
    "collapsed": false,
    "execution": {
     "iopub.execute_input": "2022-01-06T03:25:37.498565Z",
     "iopub.status.busy": "2022-01-06T03:25:37.498145Z",
     "iopub.status.idle": "2022-01-06T03:25:37.542308Z",
     "shell.execute_reply": "2022-01-06T03:25:37.540926Z",
     "shell.execute_reply.started": "2022-01-06T03:25:37.498471Z"
    },
    "jupyter": {
     "outputs_hidden": false
    }
   },
   "outputs": [
    {
     "data": {
      "text/html": [
       "<div>\n",
       "<style scoped>\n",
       "    .dataframe tbody tr th:only-of-type {\n",
       "        vertical-align: middle;\n",
       "    }\n",
       "\n",
       "    .dataframe tbody tr th {\n",
       "        vertical-align: top;\n",
       "    }\n",
       "\n",
       "    .dataframe thead th {\n",
       "        text-align: right;\n",
       "    }\n",
       "</style>\n",
       "<table border=\"1\" class=\"dataframe\">\n",
       "  <thead>\n",
       "    <tr style=\"text-align: right;\">\n",
       "      <th></th>\n",
       "      <th>gender</th>\n",
       "      <th>race/ethnicity</th>\n",
       "      <th>parental level of education</th>\n",
       "      <th>lunch</th>\n",
       "      <th>test preparation course</th>\n",
       "      <th>math score</th>\n",
       "      <th>reading score</th>\n",
       "      <th>writing score</th>\n",
       "      <th>Average</th>\n",
       "      <th>Grade_math</th>\n",
       "      <th>Grade_reading</th>\n",
       "      <th>Grade_writing</th>\n",
       "      <th>Overall_grade</th>\n",
       "      <th>pass_math</th>\n",
       "      <th>pass_reading</th>\n",
       "      <th>pass_writing</th>\n",
       "      <th>pass_Overall</th>\n",
       "    </tr>\n",
       "  </thead>\n",
       "  <tbody>\n",
       "    <tr>\n",
       "      <th>0</th>\n",
       "      <td>female</td>\n",
       "      <td>2</td>\n",
       "      <td>1</td>\n",
       "      <td>1</td>\n",
       "      <td>1</td>\n",
       "      <td>72</td>\n",
       "      <td>72</td>\n",
       "      <td>74</td>\n",
       "      <td>72.666667</td>\n",
       "      <td>C</td>\n",
       "      <td>C</td>\n",
       "      <td>C</td>\n",
       "      <td>C</td>\n",
       "      <td>success</td>\n",
       "      <td>success</td>\n",
       "      <td>success</td>\n",
       "      <td>success</td>\n",
       "    </tr>\n",
       "    <tr>\n",
       "      <th>1</th>\n",
       "      <td>female</td>\n",
       "      <td>3</td>\n",
       "      <td>4</td>\n",
       "      <td>1</td>\n",
       "      <td>0</td>\n",
       "      <td>69</td>\n",
       "      <td>90</td>\n",
       "      <td>88</td>\n",
       "      <td>82.333333</td>\n",
       "      <td>D</td>\n",
       "      <td>A</td>\n",
       "      <td>B</td>\n",
       "      <td>B</td>\n",
       "      <td>success</td>\n",
       "      <td>success</td>\n",
       "      <td>success</td>\n",
       "      <td>success</td>\n",
       "    </tr>\n",
       "    <tr>\n",
       "      <th>2</th>\n",
       "      <td>female</td>\n",
       "      <td>2</td>\n",
       "      <td>3</td>\n",
       "      <td>1</td>\n",
       "      <td>1</td>\n",
       "      <td>90</td>\n",
       "      <td>95</td>\n",
       "      <td>93</td>\n",
       "      <td>92.666667</td>\n",
       "      <td>A</td>\n",
       "      <td>A</td>\n",
       "      <td>A</td>\n",
       "      <td>A</td>\n",
       "      <td>success</td>\n",
       "      <td>success</td>\n",
       "      <td>success</td>\n",
       "      <td>success</td>\n",
       "    </tr>\n",
       "    <tr>\n",
       "      <th>3</th>\n",
       "      <td>male</td>\n",
       "      <td>1</td>\n",
       "      <td>0</td>\n",
       "      <td>0</td>\n",
       "      <td>1</td>\n",
       "      <td>47</td>\n",
       "      <td>57</td>\n",
       "      <td>44</td>\n",
       "      <td>49.333333</td>\n",
       "      <td>F</td>\n",
       "      <td>D</td>\n",
       "      <td>F</td>\n",
       "      <td>F</td>\n",
       "      <td>Fail</td>\n",
       "      <td>success</td>\n",
       "      <td>Fail</td>\n",
       "      <td>success</td>\n",
       "    </tr>\n",
       "    <tr>\n",
       "      <th>4</th>\n",
       "      <td>male</td>\n",
       "      <td>3</td>\n",
       "      <td>4</td>\n",
       "      <td>1</td>\n",
       "      <td>1</td>\n",
       "      <td>76</td>\n",
       "      <td>78</td>\n",
       "      <td>75</td>\n",
       "      <td>76.333333</td>\n",
       "      <td>C</td>\n",
       "      <td>C</td>\n",
       "      <td>C</td>\n",
       "      <td>C</td>\n",
       "      <td>success</td>\n",
       "      <td>success</td>\n",
       "      <td>success</td>\n",
       "      <td>success</td>\n",
       "    </tr>\n",
       "  </tbody>\n",
       "</table>\n",
       "</div>"
      ],
      "text/plain": [
       "   gender  race/ethnicity      ...       pass_writing  pass_Overall\n",
       "0  female               2      ...            success       success\n",
       "1  female               3      ...            success       success\n",
       "2  female               2      ...            success       success\n",
       "3    male               1      ...               Fail       success\n",
       "4    male               3      ...            success       success\n",
       "\n",
       "[5 rows x 17 columns]"
      ]
     },
     "execution_count": 35,
     "metadata": {},
     "output_type": "execute_result"
    }
   ],
   "source": [
    "data.head(5)"
   ]
  },
  {
   "cell_type": "code",
   "execution_count": 36,
   "metadata": {
    "_cell_guid": "aa62b91f-f30c-49d0-bee5-5383f6c6f0c9",
    "_uuid": "175927a4-67a7-43db-bdf5-9ac257bd2148",
    "collapsed": false,
    "execution": {
     "iopub.execute_input": "2022-01-06T03:25:37.544196Z",
     "iopub.status.busy": "2022-01-06T03:25:37.543901Z",
     "iopub.status.idle": "2022-01-06T03:25:37.556210Z",
     "shell.execute_reply": "2022-01-06T03:25:37.555325Z",
     "shell.execute_reply.started": "2022-01-06T03:25:37.544145Z"
    },
    "jupyter": {
     "outputs_hidden": false
    }
   },
   "outputs": [],
   "source": [
    "#encoding for gender\n",
    "data['gender'] = le.fit_transform(data['gender'])\n",
    "#encoding for pass math\n",
    "data['pass_math'] = le.fit_transform(data['pass_math'])\n",
    "#encoding for pass reading\n",
    "data['pass_reading'] = le.fit_transform(data['pass_reading'])\n",
    "#encoding for pass reading\n",
    "data['pass_writing'] = le.fit_transform(data['pass_writing'])\n",
    "data['pass_Overall'] = le.fit_transform(data['pass_Overall'])"
   ]
  },
  {
   "cell_type": "code",
   "execution_count": 37,
   "metadata": {
    "_cell_guid": "05f5b5d9-1ca0-49a4-b655-793a7ebed349",
    "_uuid": "d7ffb65d-650f-4898-9a8b-9f2ec30af2fd",
    "collapsed": false,
    "execution": {
     "iopub.execute_input": "2022-01-06T03:25:37.557822Z",
     "iopub.status.busy": "2022-01-06T03:25:37.557456Z",
     "iopub.status.idle": "2022-01-06T03:25:37.608306Z",
     "shell.execute_reply": "2022-01-06T03:25:37.607620Z",
     "shell.execute_reply.started": "2022-01-06T03:25:37.557766Z"
    },
    "jupyter": {
     "outputs_hidden": false
    }
   },
   "outputs": [
    {
     "data": {
      "text/html": [
       "<div>\n",
       "<style scoped>\n",
       "    .dataframe tbody tr th:only-of-type {\n",
       "        vertical-align: middle;\n",
       "    }\n",
       "\n",
       "    .dataframe tbody tr th {\n",
       "        vertical-align: top;\n",
       "    }\n",
       "\n",
       "    .dataframe thead th {\n",
       "        text-align: right;\n",
       "    }\n",
       "</style>\n",
       "<table border=\"1\" class=\"dataframe\">\n",
       "  <thead>\n",
       "    <tr style=\"text-align: right;\">\n",
       "      <th></th>\n",
       "      <th>gender</th>\n",
       "      <th>race/ethnicity</th>\n",
       "      <th>parental level of education</th>\n",
       "      <th>lunch</th>\n",
       "      <th>test preparation course</th>\n",
       "      <th>math score</th>\n",
       "      <th>reading score</th>\n",
       "      <th>writing score</th>\n",
       "      <th>Average</th>\n",
       "      <th>Grade_math</th>\n",
       "      <th>Grade_reading</th>\n",
       "      <th>Grade_writing</th>\n",
       "      <th>Overall_grade</th>\n",
       "      <th>pass_math</th>\n",
       "      <th>pass_reading</th>\n",
       "      <th>pass_writing</th>\n",
       "      <th>pass_Overall</th>\n",
       "    </tr>\n",
       "  </thead>\n",
       "  <tbody>\n",
       "    <tr>\n",
       "      <th>0</th>\n",
       "      <td>0</td>\n",
       "      <td>2</td>\n",
       "      <td>1</td>\n",
       "      <td>1</td>\n",
       "      <td>1</td>\n",
       "      <td>72</td>\n",
       "      <td>72</td>\n",
       "      <td>74</td>\n",
       "      <td>72.666667</td>\n",
       "      <td>3</td>\n",
       "      <td>C</td>\n",
       "      <td>C</td>\n",
       "      <td>C</td>\n",
       "      <td>1</td>\n",
       "      <td>1</td>\n",
       "      <td>1</td>\n",
       "      <td>1</td>\n",
       "    </tr>\n",
       "    <tr>\n",
       "      <th>1</th>\n",
       "      <td>0</td>\n",
       "      <td>3</td>\n",
       "      <td>4</td>\n",
       "      <td>1</td>\n",
       "      <td>0</td>\n",
       "      <td>69</td>\n",
       "      <td>90</td>\n",
       "      <td>88</td>\n",
       "      <td>82.333333</td>\n",
       "      <td>4</td>\n",
       "      <td>A</td>\n",
       "      <td>B</td>\n",
       "      <td>B</td>\n",
       "      <td>1</td>\n",
       "      <td>1</td>\n",
       "      <td>1</td>\n",
       "      <td>1</td>\n",
       "    </tr>\n",
       "    <tr>\n",
       "      <th>2</th>\n",
       "      <td>0</td>\n",
       "      <td>2</td>\n",
       "      <td>3</td>\n",
       "      <td>1</td>\n",
       "      <td>1</td>\n",
       "      <td>90</td>\n",
       "      <td>95</td>\n",
       "      <td>93</td>\n",
       "      <td>92.666667</td>\n",
       "      <td>1</td>\n",
       "      <td>A</td>\n",
       "      <td>A</td>\n",
       "      <td>A</td>\n",
       "      <td>1</td>\n",
       "      <td>1</td>\n",
       "      <td>1</td>\n",
       "      <td>1</td>\n",
       "    </tr>\n",
       "    <tr>\n",
       "      <th>3</th>\n",
       "      <td>1</td>\n",
       "      <td>1</td>\n",
       "      <td>0</td>\n",
       "      <td>0</td>\n",
       "      <td>1</td>\n",
       "      <td>47</td>\n",
       "      <td>57</td>\n",
       "      <td>44</td>\n",
       "      <td>49.333333</td>\n",
       "      <td>5</td>\n",
       "      <td>D</td>\n",
       "      <td>F</td>\n",
       "      <td>F</td>\n",
       "      <td>0</td>\n",
       "      <td>1</td>\n",
       "      <td>0</td>\n",
       "      <td>1</td>\n",
       "    </tr>\n",
       "    <tr>\n",
       "      <th>4</th>\n",
       "      <td>1</td>\n",
       "      <td>3</td>\n",
       "      <td>4</td>\n",
       "      <td>1</td>\n",
       "      <td>1</td>\n",
       "      <td>76</td>\n",
       "      <td>78</td>\n",
       "      <td>75</td>\n",
       "      <td>76.333333</td>\n",
       "      <td>3</td>\n",
       "      <td>C</td>\n",
       "      <td>C</td>\n",
       "      <td>C</td>\n",
       "      <td>1</td>\n",
       "      <td>1</td>\n",
       "      <td>1</td>\n",
       "      <td>1</td>\n",
       "    </tr>\n",
       "  </tbody>\n",
       "</table>\n",
       "</div>"
      ],
      "text/plain": [
       "   gender  race/ethnicity      ...       pass_writing  pass_Overall\n",
       "0       0               2      ...                  1             1\n",
       "1       0               3      ...                  1             1\n",
       "2       0               2      ...                  1             1\n",
       "3       1               1      ...                  0             1\n",
       "4       1               3      ...                  1             1\n",
       "\n",
       "[5 rows x 17 columns]"
      ]
     },
     "execution_count": 37,
     "metadata": {},
     "output_type": "execute_result"
    }
   ],
   "source": [
    "data['Grade_math'] = data['Grade_math'].replace('O',0)\n",
    "data['Grade_math'] = data['Grade_math'].replace('A',1)\n",
    "data['Grade_math'] = data['Grade_math'].replace('B',2)\n",
    "data['Grade_math'] = data['Grade_math'].replace('C',3)\n",
    "data['Grade_math'] = data['Grade_math'].replace('D',4)\n",
    "data['Grade_math'] = data['Grade_math'].replace('F',5)\n",
    "data.head()"
   ]
  },
  {
   "cell_type": "code",
   "execution_count": 38,
   "metadata": {
    "_cell_guid": "9907d3bd-20d5-40c2-89db-fbd49402c824",
    "_uuid": "c726ef5b-4e10-4bd8-879c-89b8072959cc",
    "collapsed": false,
    "execution": {
     "iopub.execute_input": "2022-01-06T03:25:37.609451Z",
     "iopub.status.busy": "2022-01-06T03:25:37.609240Z",
     "iopub.status.idle": "2022-01-06T03:25:37.659598Z",
     "shell.execute_reply": "2022-01-06T03:25:37.658888Z",
     "shell.execute_reply.started": "2022-01-06T03:25:37.609418Z"
    },
    "jupyter": {
     "outputs_hidden": false
    }
   },
   "outputs": [
    {
     "data": {
      "text/html": [
       "<div>\n",
       "<style scoped>\n",
       "    .dataframe tbody tr th:only-of-type {\n",
       "        vertical-align: middle;\n",
       "    }\n",
       "\n",
       "    .dataframe tbody tr th {\n",
       "        vertical-align: top;\n",
       "    }\n",
       "\n",
       "    .dataframe thead th {\n",
       "        text-align: right;\n",
       "    }\n",
       "</style>\n",
       "<table border=\"1\" class=\"dataframe\">\n",
       "  <thead>\n",
       "    <tr style=\"text-align: right;\">\n",
       "      <th></th>\n",
       "      <th>gender</th>\n",
       "      <th>race/ethnicity</th>\n",
       "      <th>parental level of education</th>\n",
       "      <th>lunch</th>\n",
       "      <th>test preparation course</th>\n",
       "      <th>math score</th>\n",
       "      <th>reading score</th>\n",
       "      <th>writing score</th>\n",
       "      <th>Average</th>\n",
       "      <th>Grade_math</th>\n",
       "      <th>Grade_reading</th>\n",
       "      <th>Grade_writing</th>\n",
       "      <th>Overall_grade</th>\n",
       "      <th>pass_math</th>\n",
       "      <th>pass_reading</th>\n",
       "      <th>pass_writing</th>\n",
       "      <th>pass_Overall</th>\n",
       "    </tr>\n",
       "  </thead>\n",
       "  <tbody>\n",
       "    <tr>\n",
       "      <th>0</th>\n",
       "      <td>0</td>\n",
       "      <td>2</td>\n",
       "      <td>1</td>\n",
       "      <td>1</td>\n",
       "      <td>1</td>\n",
       "      <td>72</td>\n",
       "      <td>72</td>\n",
       "      <td>74</td>\n",
       "      <td>72.666667</td>\n",
       "      <td>3</td>\n",
       "      <td>3</td>\n",
       "      <td>C</td>\n",
       "      <td>C</td>\n",
       "      <td>1</td>\n",
       "      <td>1</td>\n",
       "      <td>1</td>\n",
       "      <td>1</td>\n",
       "    </tr>\n",
       "    <tr>\n",
       "      <th>1</th>\n",
       "      <td>0</td>\n",
       "      <td>3</td>\n",
       "      <td>4</td>\n",
       "      <td>1</td>\n",
       "      <td>0</td>\n",
       "      <td>69</td>\n",
       "      <td>90</td>\n",
       "      <td>88</td>\n",
       "      <td>82.333333</td>\n",
       "      <td>4</td>\n",
       "      <td>1</td>\n",
       "      <td>B</td>\n",
       "      <td>B</td>\n",
       "      <td>1</td>\n",
       "      <td>1</td>\n",
       "      <td>1</td>\n",
       "      <td>1</td>\n",
       "    </tr>\n",
       "    <tr>\n",
       "      <th>2</th>\n",
       "      <td>0</td>\n",
       "      <td>2</td>\n",
       "      <td>3</td>\n",
       "      <td>1</td>\n",
       "      <td>1</td>\n",
       "      <td>90</td>\n",
       "      <td>95</td>\n",
       "      <td>93</td>\n",
       "      <td>92.666667</td>\n",
       "      <td>1</td>\n",
       "      <td>1</td>\n",
       "      <td>A</td>\n",
       "      <td>A</td>\n",
       "      <td>1</td>\n",
       "      <td>1</td>\n",
       "      <td>1</td>\n",
       "      <td>1</td>\n",
       "    </tr>\n",
       "    <tr>\n",
       "      <th>3</th>\n",
       "      <td>1</td>\n",
       "      <td>1</td>\n",
       "      <td>0</td>\n",
       "      <td>0</td>\n",
       "      <td>1</td>\n",
       "      <td>47</td>\n",
       "      <td>57</td>\n",
       "      <td>44</td>\n",
       "      <td>49.333333</td>\n",
       "      <td>5</td>\n",
       "      <td>4</td>\n",
       "      <td>F</td>\n",
       "      <td>F</td>\n",
       "      <td>0</td>\n",
       "      <td>1</td>\n",
       "      <td>0</td>\n",
       "      <td>1</td>\n",
       "    </tr>\n",
       "    <tr>\n",
       "      <th>4</th>\n",
       "      <td>1</td>\n",
       "      <td>3</td>\n",
       "      <td>4</td>\n",
       "      <td>1</td>\n",
       "      <td>1</td>\n",
       "      <td>76</td>\n",
       "      <td>78</td>\n",
       "      <td>75</td>\n",
       "      <td>76.333333</td>\n",
       "      <td>3</td>\n",
       "      <td>3</td>\n",
       "      <td>C</td>\n",
       "      <td>C</td>\n",
       "      <td>1</td>\n",
       "      <td>1</td>\n",
       "      <td>1</td>\n",
       "      <td>1</td>\n",
       "    </tr>\n",
       "  </tbody>\n",
       "</table>\n",
       "</div>"
      ],
      "text/plain": [
       "   gender  race/ethnicity      ...       pass_writing  pass_Overall\n",
       "0       0               2      ...                  1             1\n",
       "1       0               3      ...                  1             1\n",
       "2       0               2      ...                  1             1\n",
       "3       1               1      ...                  0             1\n",
       "4       1               3      ...                  1             1\n",
       "\n",
       "[5 rows x 17 columns]"
      ]
     },
     "execution_count": 38,
     "metadata": {},
     "output_type": "execute_result"
    }
   ],
   "source": [
    "data['Grade_reading'] = data['Grade_reading'].replace('O',0)\n",
    "data['Grade_reading'] = data['Grade_reading'].replace('A',1)\n",
    "data['Grade_reading'] = data['Grade_reading'].replace('B',2)\n",
    "data['Grade_reading'] = data['Grade_reading'].replace('C',3)\n",
    "data['Grade_reading'] = data['Grade_reading'].replace('D',4)\n",
    "data['Grade_reading'] = data['Grade_reading'].replace('F',5)\n",
    "data.head()"
   ]
  },
  {
   "cell_type": "code",
   "execution_count": 39,
   "metadata": {
    "_cell_guid": "7b8f7532-4f06-42ee-a1d4-57c5cccf5e18",
    "_uuid": "0e9900f9-981d-4d32-8641-3f4638b2488f",
    "collapsed": false,
    "execution": {
     "iopub.execute_input": "2022-01-06T03:25:37.661341Z",
     "iopub.status.busy": "2022-01-06T03:25:37.660883Z",
     "iopub.status.idle": "2022-01-06T03:25:37.711009Z",
     "shell.execute_reply": "2022-01-06T03:25:37.709708Z",
     "shell.execute_reply.started": "2022-01-06T03:25:37.661296Z"
    },
    "jupyter": {
     "outputs_hidden": false
    }
   },
   "outputs": [
    {
     "data": {
      "text/html": [
       "<div>\n",
       "<style scoped>\n",
       "    .dataframe tbody tr th:only-of-type {\n",
       "        vertical-align: middle;\n",
       "    }\n",
       "\n",
       "    .dataframe tbody tr th {\n",
       "        vertical-align: top;\n",
       "    }\n",
       "\n",
       "    .dataframe thead th {\n",
       "        text-align: right;\n",
       "    }\n",
       "</style>\n",
       "<table border=\"1\" class=\"dataframe\">\n",
       "  <thead>\n",
       "    <tr style=\"text-align: right;\">\n",
       "      <th></th>\n",
       "      <th>gender</th>\n",
       "      <th>race/ethnicity</th>\n",
       "      <th>parental level of education</th>\n",
       "      <th>lunch</th>\n",
       "      <th>test preparation course</th>\n",
       "      <th>math score</th>\n",
       "      <th>reading score</th>\n",
       "      <th>writing score</th>\n",
       "      <th>Average</th>\n",
       "      <th>Grade_math</th>\n",
       "      <th>Grade_reading</th>\n",
       "      <th>Grade_writing</th>\n",
       "      <th>Overall_grade</th>\n",
       "      <th>pass_math</th>\n",
       "      <th>pass_reading</th>\n",
       "      <th>pass_writing</th>\n",
       "      <th>pass_Overall</th>\n",
       "    </tr>\n",
       "  </thead>\n",
       "  <tbody>\n",
       "    <tr>\n",
       "      <th>0</th>\n",
       "      <td>0</td>\n",
       "      <td>2</td>\n",
       "      <td>1</td>\n",
       "      <td>1</td>\n",
       "      <td>1</td>\n",
       "      <td>72</td>\n",
       "      <td>72</td>\n",
       "      <td>74</td>\n",
       "      <td>72.666667</td>\n",
       "      <td>3</td>\n",
       "      <td>3</td>\n",
       "      <td>C</td>\n",
       "      <td>C</td>\n",
       "      <td>1</td>\n",
       "      <td>1</td>\n",
       "      <td>1</td>\n",
       "      <td>1</td>\n",
       "    </tr>\n",
       "    <tr>\n",
       "      <th>1</th>\n",
       "      <td>0</td>\n",
       "      <td>3</td>\n",
       "      <td>4</td>\n",
       "      <td>1</td>\n",
       "      <td>0</td>\n",
       "      <td>69</td>\n",
       "      <td>90</td>\n",
       "      <td>88</td>\n",
       "      <td>82.333333</td>\n",
       "      <td>4</td>\n",
       "      <td>1</td>\n",
       "      <td>B</td>\n",
       "      <td>B</td>\n",
       "      <td>1</td>\n",
       "      <td>1</td>\n",
       "      <td>1</td>\n",
       "      <td>1</td>\n",
       "    </tr>\n",
       "    <tr>\n",
       "      <th>2</th>\n",
       "      <td>0</td>\n",
       "      <td>2</td>\n",
       "      <td>3</td>\n",
       "      <td>1</td>\n",
       "      <td>1</td>\n",
       "      <td>90</td>\n",
       "      <td>95</td>\n",
       "      <td>93</td>\n",
       "      <td>92.666667</td>\n",
       "      <td>1</td>\n",
       "      <td>1</td>\n",
       "      <td>A</td>\n",
       "      <td>A</td>\n",
       "      <td>1</td>\n",
       "      <td>1</td>\n",
       "      <td>1</td>\n",
       "      <td>1</td>\n",
       "    </tr>\n",
       "    <tr>\n",
       "      <th>3</th>\n",
       "      <td>1</td>\n",
       "      <td>1</td>\n",
       "      <td>0</td>\n",
       "      <td>0</td>\n",
       "      <td>1</td>\n",
       "      <td>47</td>\n",
       "      <td>57</td>\n",
       "      <td>44</td>\n",
       "      <td>49.333333</td>\n",
       "      <td>5</td>\n",
       "      <td>4</td>\n",
       "      <td>F</td>\n",
       "      <td>F</td>\n",
       "      <td>0</td>\n",
       "      <td>1</td>\n",
       "      <td>0</td>\n",
       "      <td>1</td>\n",
       "    </tr>\n",
       "    <tr>\n",
       "      <th>4</th>\n",
       "      <td>1</td>\n",
       "      <td>3</td>\n",
       "      <td>4</td>\n",
       "      <td>1</td>\n",
       "      <td>1</td>\n",
       "      <td>76</td>\n",
       "      <td>78</td>\n",
       "      <td>75</td>\n",
       "      <td>76.333333</td>\n",
       "      <td>3</td>\n",
       "      <td>3</td>\n",
       "      <td>C</td>\n",
       "      <td>C</td>\n",
       "      <td>1</td>\n",
       "      <td>1</td>\n",
       "      <td>1</td>\n",
       "      <td>1</td>\n",
       "    </tr>\n",
       "  </tbody>\n",
       "</table>\n",
       "</div>"
      ],
      "text/plain": [
       "   gender  race/ethnicity      ...       pass_writing  pass_Overall\n",
       "0       0               2      ...                  1             1\n",
       "1       0               3      ...                  1             1\n",
       "2       0               2      ...                  1             1\n",
       "3       1               1      ...                  0             1\n",
       "4       1               3      ...                  1             1\n",
       "\n",
       "[5 rows x 17 columns]"
      ]
     },
     "execution_count": 39,
     "metadata": {},
     "output_type": "execute_result"
    }
   ],
   "source": [
    "data['Grade_reading'] = data['Grade_reading'].replace('O',0)\n",
    "data['Grade_reading'] = data['Grade_reading'].replace('A',1)\n",
    "data['Grade_reading'] = data['Grade_reading'].replace('B',2)\n",
    "data['Grade_reading'] = data['Grade_reading'].replace('C',3)\n",
    "data['Grade_reading'] = data['Grade_reading'].replace('D',4)\n",
    "data['Grade_reading'] = data['Grade_reading'].replace('F',5)\n",
    "data.head()"
   ]
  },
  {
   "cell_type": "code",
   "execution_count": 40,
   "metadata": {
    "_cell_guid": "5621d38f-4a7e-412e-aa3d-8a77adc86c49",
    "_uuid": "26363583-1988-4981-964c-c44abb4a5597",
    "collapsed": false,
    "execution": {
     "iopub.execute_input": "2022-01-06T03:25:37.712997Z",
     "iopub.status.busy": "2022-01-06T03:25:37.712577Z",
     "iopub.status.idle": "2022-01-06T03:25:37.764691Z",
     "shell.execute_reply": "2022-01-06T03:25:37.763582Z",
     "shell.execute_reply.started": "2022-01-06T03:25:37.712940Z"
    },
    "jupyter": {
     "outputs_hidden": false
    }
   },
   "outputs": [
    {
     "data": {
      "text/html": [
       "<div>\n",
       "<style scoped>\n",
       "    .dataframe tbody tr th:only-of-type {\n",
       "        vertical-align: middle;\n",
       "    }\n",
       "\n",
       "    .dataframe tbody tr th {\n",
       "        vertical-align: top;\n",
       "    }\n",
       "\n",
       "    .dataframe thead th {\n",
       "        text-align: right;\n",
       "    }\n",
       "</style>\n",
       "<table border=\"1\" class=\"dataframe\">\n",
       "  <thead>\n",
       "    <tr style=\"text-align: right;\">\n",
       "      <th></th>\n",
       "      <th>gender</th>\n",
       "      <th>race/ethnicity</th>\n",
       "      <th>parental level of education</th>\n",
       "      <th>lunch</th>\n",
       "      <th>test preparation course</th>\n",
       "      <th>math score</th>\n",
       "      <th>reading score</th>\n",
       "      <th>writing score</th>\n",
       "      <th>Average</th>\n",
       "      <th>Grade_math</th>\n",
       "      <th>Grade_reading</th>\n",
       "      <th>Grade_writing</th>\n",
       "      <th>Overall_grade</th>\n",
       "      <th>pass_math</th>\n",
       "      <th>pass_reading</th>\n",
       "      <th>pass_writing</th>\n",
       "      <th>pass_Overall</th>\n",
       "    </tr>\n",
       "  </thead>\n",
       "  <tbody>\n",
       "    <tr>\n",
       "      <th>0</th>\n",
       "      <td>0</td>\n",
       "      <td>2</td>\n",
       "      <td>1</td>\n",
       "      <td>1</td>\n",
       "      <td>1</td>\n",
       "      <td>72</td>\n",
       "      <td>72</td>\n",
       "      <td>74</td>\n",
       "      <td>72.666667</td>\n",
       "      <td>3</td>\n",
       "      <td>3</td>\n",
       "      <td>3</td>\n",
       "      <td>C</td>\n",
       "      <td>1</td>\n",
       "      <td>1</td>\n",
       "      <td>1</td>\n",
       "      <td>1</td>\n",
       "    </tr>\n",
       "    <tr>\n",
       "      <th>1</th>\n",
       "      <td>0</td>\n",
       "      <td>3</td>\n",
       "      <td>4</td>\n",
       "      <td>1</td>\n",
       "      <td>0</td>\n",
       "      <td>69</td>\n",
       "      <td>90</td>\n",
       "      <td>88</td>\n",
       "      <td>82.333333</td>\n",
       "      <td>4</td>\n",
       "      <td>1</td>\n",
       "      <td>2</td>\n",
       "      <td>B</td>\n",
       "      <td>1</td>\n",
       "      <td>1</td>\n",
       "      <td>1</td>\n",
       "      <td>1</td>\n",
       "    </tr>\n",
       "    <tr>\n",
       "      <th>2</th>\n",
       "      <td>0</td>\n",
       "      <td>2</td>\n",
       "      <td>3</td>\n",
       "      <td>1</td>\n",
       "      <td>1</td>\n",
       "      <td>90</td>\n",
       "      <td>95</td>\n",
       "      <td>93</td>\n",
       "      <td>92.666667</td>\n",
       "      <td>1</td>\n",
       "      <td>1</td>\n",
       "      <td>1</td>\n",
       "      <td>A</td>\n",
       "      <td>1</td>\n",
       "      <td>1</td>\n",
       "      <td>1</td>\n",
       "      <td>1</td>\n",
       "    </tr>\n",
       "    <tr>\n",
       "      <th>3</th>\n",
       "      <td>1</td>\n",
       "      <td>1</td>\n",
       "      <td>0</td>\n",
       "      <td>0</td>\n",
       "      <td>1</td>\n",
       "      <td>47</td>\n",
       "      <td>57</td>\n",
       "      <td>44</td>\n",
       "      <td>49.333333</td>\n",
       "      <td>5</td>\n",
       "      <td>4</td>\n",
       "      <td>5</td>\n",
       "      <td>F</td>\n",
       "      <td>0</td>\n",
       "      <td>1</td>\n",
       "      <td>0</td>\n",
       "      <td>1</td>\n",
       "    </tr>\n",
       "    <tr>\n",
       "      <th>4</th>\n",
       "      <td>1</td>\n",
       "      <td>3</td>\n",
       "      <td>4</td>\n",
       "      <td>1</td>\n",
       "      <td>1</td>\n",
       "      <td>76</td>\n",
       "      <td>78</td>\n",
       "      <td>75</td>\n",
       "      <td>76.333333</td>\n",
       "      <td>3</td>\n",
       "      <td>3</td>\n",
       "      <td>3</td>\n",
       "      <td>C</td>\n",
       "      <td>1</td>\n",
       "      <td>1</td>\n",
       "      <td>1</td>\n",
       "      <td>1</td>\n",
       "    </tr>\n",
       "  </tbody>\n",
       "</table>\n",
       "</div>"
      ],
      "text/plain": [
       "   gender  race/ethnicity      ...       pass_writing  pass_Overall\n",
       "0       0               2      ...                  1             1\n",
       "1       0               3      ...                  1             1\n",
       "2       0               2      ...                  1             1\n",
       "3       1               1      ...                  0             1\n",
       "4       1               3      ...                  1             1\n",
       "\n",
       "[5 rows x 17 columns]"
      ]
     },
     "execution_count": 40,
     "metadata": {},
     "output_type": "execute_result"
    }
   ],
   "source": [
    "data['Grade_writing'] = data['Grade_writing'].replace('O',0)\n",
    "data['Grade_writing'] = data['Grade_writing'].replace('A',1)\n",
    "data['Grade_writing'] = data['Grade_writing'].replace('B',2)\n",
    "data['Grade_writing'] = data['Grade_writing'].replace('C',3)\n",
    "data['Grade_writing'] = data['Grade_writing'].replace('D',4)\n",
    "data['Grade_writing'] = data['Grade_writing'].replace('F',5)\n",
    "data.head()"
   ]
  },
  {
   "cell_type": "code",
   "execution_count": 41,
   "metadata": {
    "_cell_guid": "1309a43c-b99b-4a7c-871f-34df40058b62",
    "_uuid": "e6f00f8e-6afc-4d51-8dab-01958c513fdf",
    "collapsed": false,
    "execution": {
     "iopub.execute_input": "2022-01-06T03:25:37.766352Z",
     "iopub.status.busy": "2022-01-06T03:25:37.766084Z",
     "iopub.status.idle": "2022-01-06T03:25:37.816818Z",
     "shell.execute_reply": "2022-01-06T03:25:37.816044Z",
     "shell.execute_reply.started": "2022-01-06T03:25:37.766308Z"
    },
    "jupyter": {
     "outputs_hidden": false
    }
   },
   "outputs": [
    {
     "data": {
      "text/html": [
       "<div>\n",
       "<style scoped>\n",
       "    .dataframe tbody tr th:only-of-type {\n",
       "        vertical-align: middle;\n",
       "    }\n",
       "\n",
       "    .dataframe tbody tr th {\n",
       "        vertical-align: top;\n",
       "    }\n",
       "\n",
       "    .dataframe thead th {\n",
       "        text-align: right;\n",
       "    }\n",
       "</style>\n",
       "<table border=\"1\" class=\"dataframe\">\n",
       "  <thead>\n",
       "    <tr style=\"text-align: right;\">\n",
       "      <th></th>\n",
       "      <th>gender</th>\n",
       "      <th>race/ethnicity</th>\n",
       "      <th>parental level of education</th>\n",
       "      <th>lunch</th>\n",
       "      <th>test preparation course</th>\n",
       "      <th>math score</th>\n",
       "      <th>reading score</th>\n",
       "      <th>writing score</th>\n",
       "      <th>Average</th>\n",
       "      <th>Grade_math</th>\n",
       "      <th>Grade_reading</th>\n",
       "      <th>Grade_writing</th>\n",
       "      <th>Overall_grade</th>\n",
       "      <th>pass_math</th>\n",
       "      <th>pass_reading</th>\n",
       "      <th>pass_writing</th>\n",
       "      <th>pass_Overall</th>\n",
       "    </tr>\n",
       "  </thead>\n",
       "  <tbody>\n",
       "    <tr>\n",
       "      <th>0</th>\n",
       "      <td>0</td>\n",
       "      <td>2</td>\n",
       "      <td>1</td>\n",
       "      <td>1</td>\n",
       "      <td>1</td>\n",
       "      <td>72</td>\n",
       "      <td>72</td>\n",
       "      <td>74</td>\n",
       "      <td>72.666667</td>\n",
       "      <td>3</td>\n",
       "      <td>3</td>\n",
       "      <td>3</td>\n",
       "      <td>3</td>\n",
       "      <td>1</td>\n",
       "      <td>1</td>\n",
       "      <td>1</td>\n",
       "      <td>1</td>\n",
       "    </tr>\n",
       "    <tr>\n",
       "      <th>1</th>\n",
       "      <td>0</td>\n",
       "      <td>3</td>\n",
       "      <td>4</td>\n",
       "      <td>1</td>\n",
       "      <td>0</td>\n",
       "      <td>69</td>\n",
       "      <td>90</td>\n",
       "      <td>88</td>\n",
       "      <td>82.333333</td>\n",
       "      <td>4</td>\n",
       "      <td>1</td>\n",
       "      <td>2</td>\n",
       "      <td>2</td>\n",
       "      <td>1</td>\n",
       "      <td>1</td>\n",
       "      <td>1</td>\n",
       "      <td>1</td>\n",
       "    </tr>\n",
       "    <tr>\n",
       "      <th>2</th>\n",
       "      <td>0</td>\n",
       "      <td>2</td>\n",
       "      <td>3</td>\n",
       "      <td>1</td>\n",
       "      <td>1</td>\n",
       "      <td>90</td>\n",
       "      <td>95</td>\n",
       "      <td>93</td>\n",
       "      <td>92.666667</td>\n",
       "      <td>1</td>\n",
       "      <td>1</td>\n",
       "      <td>1</td>\n",
       "      <td>1</td>\n",
       "      <td>1</td>\n",
       "      <td>1</td>\n",
       "      <td>1</td>\n",
       "      <td>1</td>\n",
       "    </tr>\n",
       "    <tr>\n",
       "      <th>3</th>\n",
       "      <td>1</td>\n",
       "      <td>1</td>\n",
       "      <td>0</td>\n",
       "      <td>0</td>\n",
       "      <td>1</td>\n",
       "      <td>47</td>\n",
       "      <td>57</td>\n",
       "      <td>44</td>\n",
       "      <td>49.333333</td>\n",
       "      <td>5</td>\n",
       "      <td>4</td>\n",
       "      <td>5</td>\n",
       "      <td>5</td>\n",
       "      <td>0</td>\n",
       "      <td>1</td>\n",
       "      <td>0</td>\n",
       "      <td>1</td>\n",
       "    </tr>\n",
       "    <tr>\n",
       "      <th>4</th>\n",
       "      <td>1</td>\n",
       "      <td>3</td>\n",
       "      <td>4</td>\n",
       "      <td>1</td>\n",
       "      <td>1</td>\n",
       "      <td>76</td>\n",
       "      <td>78</td>\n",
       "      <td>75</td>\n",
       "      <td>76.333333</td>\n",
       "      <td>3</td>\n",
       "      <td>3</td>\n",
       "      <td>3</td>\n",
       "      <td>3</td>\n",
       "      <td>1</td>\n",
       "      <td>1</td>\n",
       "      <td>1</td>\n",
       "      <td>1</td>\n",
       "    </tr>\n",
       "  </tbody>\n",
       "</table>\n",
       "</div>"
      ],
      "text/plain": [
       "   gender  race/ethnicity      ...       pass_writing  pass_Overall\n",
       "0       0               2      ...                  1             1\n",
       "1       0               3      ...                  1             1\n",
       "2       0               2      ...                  1             1\n",
       "3       1               1      ...                  0             1\n",
       "4       1               3      ...                  1             1\n",
       "\n",
       "[5 rows x 17 columns]"
      ]
     },
     "execution_count": 41,
     "metadata": {},
     "output_type": "execute_result"
    }
   ],
   "source": [
    "data['Overall_grade'] = data['Overall_grade'].replace('O',0)\n",
    "data['Overall_grade'] = data['Overall_grade'].replace('A',1)\n",
    "data['Overall_grade'] = data['Overall_grade'].replace('B',2)\n",
    "data['Overall_grade'] = data['Overall_grade'].replace('C',3)\n",
    "data['Overall_grade'] = data['Overall_grade'].replace('D',4)\n",
    "data['Overall_grade'] = data['Overall_grade'].replace('F',5)\n",
    "data.head()"
   ]
  },
  {
   "cell_type": "code",
   "execution_count": 42,
   "metadata": {
    "execution": {
     "iopub.execute_input": "2022-01-06T03:25:37.818198Z",
     "iopub.status.busy": "2022-01-06T03:25:37.817839Z",
     "iopub.status.idle": "2022-01-06T03:25:37.870590Z",
     "shell.execute_reply": "2022-01-06T03:25:37.869803Z",
     "shell.execute_reply.started": "2022-01-06T03:25:37.818160Z"
    }
   },
   "outputs": [
    {
     "data": {
      "text/html": [
       "<div>\n",
       "<style scoped>\n",
       "    .dataframe tbody tr th:only-of-type {\n",
       "        vertical-align: middle;\n",
       "    }\n",
       "\n",
       "    .dataframe tbody tr th {\n",
       "        vertical-align: top;\n",
       "    }\n",
       "\n",
       "    .dataframe thead th {\n",
       "        text-align: right;\n",
       "    }\n",
       "</style>\n",
       "<table border=\"1\" class=\"dataframe\">\n",
       "  <thead>\n",
       "    <tr style=\"text-align: right;\">\n",
       "      <th></th>\n",
       "      <th>gender</th>\n",
       "      <th>race/ethnicity</th>\n",
       "      <th>parental level of education</th>\n",
       "      <th>lunch</th>\n",
       "      <th>test preparation course</th>\n",
       "      <th>math score</th>\n",
       "      <th>reading score</th>\n",
       "      <th>writing score</th>\n",
       "      <th>Average</th>\n",
       "      <th>Grade_math</th>\n",
       "      <th>Grade_reading</th>\n",
       "      <th>Grade_writing</th>\n",
       "      <th>Overall_grade</th>\n",
       "      <th>pass_math</th>\n",
       "      <th>pass_reading</th>\n",
       "      <th>pass_writing</th>\n",
       "      <th>pass_Overall</th>\n",
       "    </tr>\n",
       "  </thead>\n",
       "  <tbody>\n",
       "    <tr>\n",
       "      <th>0</th>\n",
       "      <td>0</td>\n",
       "      <td>2</td>\n",
       "      <td>1</td>\n",
       "      <td>1</td>\n",
       "      <td>1</td>\n",
       "      <td>72</td>\n",
       "      <td>72</td>\n",
       "      <td>74</td>\n",
       "      <td>72.666667</td>\n",
       "      <td>3</td>\n",
       "      <td>3</td>\n",
       "      <td>3</td>\n",
       "      <td>3</td>\n",
       "      <td>1</td>\n",
       "      <td>1</td>\n",
       "      <td>1</td>\n",
       "      <td>1</td>\n",
       "    </tr>\n",
       "    <tr>\n",
       "      <th>1</th>\n",
       "      <td>0</td>\n",
       "      <td>3</td>\n",
       "      <td>4</td>\n",
       "      <td>1</td>\n",
       "      <td>0</td>\n",
       "      <td>69</td>\n",
       "      <td>90</td>\n",
       "      <td>88</td>\n",
       "      <td>82.333333</td>\n",
       "      <td>4</td>\n",
       "      <td>1</td>\n",
       "      <td>2</td>\n",
       "      <td>2</td>\n",
       "      <td>1</td>\n",
       "      <td>1</td>\n",
       "      <td>1</td>\n",
       "      <td>1</td>\n",
       "    </tr>\n",
       "    <tr>\n",
       "      <th>2</th>\n",
       "      <td>0</td>\n",
       "      <td>2</td>\n",
       "      <td>3</td>\n",
       "      <td>1</td>\n",
       "      <td>1</td>\n",
       "      <td>90</td>\n",
       "      <td>95</td>\n",
       "      <td>93</td>\n",
       "      <td>92.666667</td>\n",
       "      <td>1</td>\n",
       "      <td>1</td>\n",
       "      <td>1</td>\n",
       "      <td>1</td>\n",
       "      <td>1</td>\n",
       "      <td>1</td>\n",
       "      <td>1</td>\n",
       "      <td>1</td>\n",
       "    </tr>\n",
       "    <tr>\n",
       "      <th>3</th>\n",
       "      <td>1</td>\n",
       "      <td>1</td>\n",
       "      <td>0</td>\n",
       "      <td>0</td>\n",
       "      <td>1</td>\n",
       "      <td>47</td>\n",
       "      <td>57</td>\n",
       "      <td>44</td>\n",
       "      <td>49.333333</td>\n",
       "      <td>5</td>\n",
       "      <td>4</td>\n",
       "      <td>5</td>\n",
       "      <td>5</td>\n",
       "      <td>0</td>\n",
       "      <td>1</td>\n",
       "      <td>0</td>\n",
       "      <td>1</td>\n",
       "    </tr>\n",
       "    <tr>\n",
       "      <th>4</th>\n",
       "      <td>1</td>\n",
       "      <td>3</td>\n",
       "      <td>4</td>\n",
       "      <td>1</td>\n",
       "      <td>1</td>\n",
       "      <td>76</td>\n",
       "      <td>78</td>\n",
       "      <td>75</td>\n",
       "      <td>76.333333</td>\n",
       "      <td>3</td>\n",
       "      <td>3</td>\n",
       "      <td>3</td>\n",
       "      <td>3</td>\n",
       "      <td>1</td>\n",
       "      <td>1</td>\n",
       "      <td>1</td>\n",
       "      <td>1</td>\n",
       "    </tr>\n",
       "  </tbody>\n",
       "</table>\n",
       "</div>"
      ],
      "text/plain": [
       "   gender  race/ethnicity      ...       pass_writing  pass_Overall\n",
       "0       0               2      ...                  1             1\n",
       "1       0               3      ...                  1             1\n",
       "2       0               2      ...                  1             1\n",
       "3       1               1      ...                  0             1\n",
       "4       1               3      ...                  1             1\n",
       "\n",
       "[5 rows x 17 columns]"
      ]
     },
     "execution_count": 42,
     "metadata": {},
     "output_type": "execute_result"
    }
   ],
   "source": [
    "data['Overall_grade'] = data['Overall_grade'].replace('O',0)\n",
    "data['Overall_grade'] = data['Overall_grade'].replace('A',1)\n",
    "data['Overall_grade'] = data['Overall_grade'].replace('B',2)\n",
    "data['Overall_grade'] = data['Overall_grade'].replace('C',3)\n",
    "data['Overall_grade'] = data['Overall_grade'].replace('D',4)\n",
    "data['Overall_grade'] = data['Overall_grade'].replace('F',5)\n",
    "data.head()"
   ]
  },
  {
   "cell_type": "code",
   "execution_count": 43,
   "metadata": {
    "_cell_guid": "7c669405-3db0-42d0-b1c4-29cb650d58b5",
    "_uuid": "5437e13a-66ca-46a6-905e-df58809a27f0",
    "collapsed": false,
    "execution": {
     "iopub.execute_input": "2022-01-06T03:25:37.874860Z",
     "iopub.status.busy": "2022-01-06T03:25:37.872207Z",
     "iopub.status.idle": "2022-01-06T03:25:37.883892Z",
     "shell.execute_reply": "2022-01-06T03:25:37.882410Z",
     "shell.execute_reply.started": "2022-01-06T03:25:37.874765Z"
    },
    "jupyter": {
     "outputs_hidden": false
    }
   },
   "outputs": [
    {
     "name": "stdout",
     "output_type": "stream",
     "text": [
      "(1000, 14)\n",
      "(1000,)\n"
     ]
    }
   ],
   "source": [
    "x= data.iloc[:,:14]\n",
    "y = data.iloc[:,16]\n",
    "print(x.shape)\n",
    "print(y.shape)"
   ]
  },
  {
   "cell_type": "code",
   "execution_count": 44,
   "metadata": {
    "_cell_guid": "d458a2fb-26c7-45d9-ba4a-33ca66846245",
    "_uuid": "850a58f0-26b8-4a00-bb86-ee898b4b8157",
    "collapsed": false,
    "execution": {
     "iopub.execute_input": "2022-01-06T03:25:37.885736Z",
     "iopub.status.busy": "2022-01-06T03:25:37.885451Z",
     "iopub.status.idle": "2022-01-06T03:25:37.904737Z",
     "shell.execute_reply": "2022-01-06T03:25:37.902993Z",
     "shell.execute_reply.started": "2022-01-06T03:25:37.885690Z"
    },
    "jupyter": {
     "outputs_hidden": false
    }
   },
   "outputs": [
    {
     "name": "stdout",
     "output_type": "stream",
     "text": [
      "(800, 14)\n",
      "(200, 14)\n",
      "(800,)\n",
      "(200,)\n"
     ]
    }
   ],
   "source": [
    "from sklearn.model_selection import train_test_split\n",
    "x_train, x_test, y_train, y_test = train_test_split(x, y, test_size = 0.20, random_state = 0)\n",
    "print(x_train.shape)\n",
    "print(x_test.shape)\n",
    "print(y_train.shape)\n",
    "print(y_test.shape)"
   ]
  },
  {
   "cell_type": "code",
   "execution_count": 45,
   "metadata": {
    "_cell_guid": "edd8b728-2257-462c-bc7f-497a8ea63a84",
    "_uuid": "1a11b8d4-d0e9-4c83-aa89-fab1bba43138",
    "collapsed": false,
    "execution": {
     "iopub.execute_input": "2022-01-06T03:25:37.906908Z",
     "iopub.status.busy": "2022-01-06T03:25:37.906531Z",
     "iopub.status.idle": "2022-01-06T03:25:37.922325Z",
     "shell.execute_reply": "2022-01-06T03:25:37.921590Z",
     "shell.execute_reply.started": "2022-01-06T03:25:37.906844Z"
    },
    "jupyter": {
     "outputs_hidden": false
    }
   },
   "outputs": [
    {
     "name": "stderr",
     "output_type": "stream",
     "text": [
      "/opt/conda/lib/python3.6/site-packages/sklearn/preprocessing/data.py:625: DataConversionWarning: Data with input dtype int64, float64 were all converted to float64 by StandardScaler.\n",
      "  return self.partial_fit(X, y)\n",
      "/opt/conda/lib/python3.6/site-packages/sklearn/base.py:462: DataConversionWarning: Data with input dtype int64, float64 were all converted to float64 by StandardScaler.\n",
      "  return self.fit(X, **fit_params).transform(X)\n",
      "/opt/conda/lib/python3.6/site-packages/ipykernel_launcher.py:4: DataConversionWarning: Data with input dtype int64, float64 were all converted to float64 by StandardScaler.\n",
      "  after removing the cwd from sys.path.\n"
     ]
    }
   ],
   "source": [
    "from sklearn.preprocessing import StandardScaler\n",
    "sc = StandardScaler()\n",
    "x_train = sc.fit_transform(x_train)\n",
    "x_test = sc.transform(x_test)"
   ]
  },
  {
   "cell_type": "code",
   "execution_count": 46,
   "metadata": {
    "execution": {
     "iopub.execute_input": "2022-01-06T03:26:36.349320Z",
     "iopub.status.busy": "2022-01-06T03:26:36.348414Z",
     "iopub.status.idle": "2022-01-06T03:26:36.359042Z",
     "shell.execute_reply": "2022-01-06T03:26:36.358167Z",
     "shell.execute_reply.started": "2022-01-06T03:26:36.349249Z"
    }
   },
   "outputs": [
    {
     "data": {
      "text/plain": [
       "GaussianNB(priors=None, var_smoothing=1e-09)"
      ]
     },
     "execution_count": 46,
     "metadata": {},
     "output_type": "execute_result"
    }
   ],
   "source": [
    "from sklearn.naive_bayes import GaussianNB\n",
    "classifier = GaussianNB()\n",
    "classifier.fit(x_train, y_train)\n"
   ]
  },
  {
   "cell_type": "code",
   "execution_count": 47,
   "metadata": {
    "_cell_guid": "9f76c38b-3b37-4bcd-a78a-0980d05087e2",
    "_uuid": "da0a16e7-a734-402c-8c35-8e2ae0642b4c",
    "collapsed": false,
    "execution": {
     "iopub.execute_input": "2022-01-06T03:26:39.704720Z",
     "iopub.status.busy": "2022-01-06T03:26:39.704040Z",
     "iopub.status.idle": "2022-01-06T03:26:39.710136Z",
     "shell.execute_reply": "2022-01-06T03:26:39.709248Z",
     "shell.execute_reply.started": "2022-01-06T03:26:39.704316Z"
    },
    "jupyter": {
     "outputs_hidden": false
    }
   },
   "outputs": [],
   "source": [
    "y_pred  =  classifier.predict(x_test)"
   ]
  },
  {
   "cell_type": "code",
   "execution_count": 48,
   "metadata": {
    "_cell_guid": "b744a123-6487-4548-bfec-0592ad85c5d9",
    "_uuid": "a1e846d4-3ca8-42f2-9120-1d0b2f8c4fea",
    "collapsed": false,
    "execution": {
     "iopub.execute_input": "2022-01-06T03:26:41.637313Z",
     "iopub.status.busy": "2022-01-06T03:26:41.637006Z",
     "iopub.status.idle": "2022-01-06T03:26:41.646833Z",
     "shell.execute_reply": "2022-01-06T03:26:41.646014Z",
     "shell.execute_reply.started": "2022-01-06T03:26:41.637265Z"
    },
    "jupyter": {
     "outputs_hidden": false
    }
   },
   "outputs": [],
   "source": [
    "from sklearn.metrics import confusion_matrix,accuracy_score\n",
    "cm = confusion_matrix(y_test, y_pred)\n",
    "ac = accuracy_score(y_test,y_pred)"
   ]
  },
  {
   "cell_type": "code",
   "execution_count": 49,
   "metadata": {
    "_cell_guid": "902a5512-ba31-47e4-933b-1cc81ebb4e86",
    "_uuid": "abbbc2ff-ca55-4bb1-b681-1d76a6f19eba",
    "collapsed": false,
    "execution": {
     "iopub.execute_input": "2022-01-06T03:26:44.709182Z",
     "iopub.status.busy": "2022-01-06T03:26:44.708530Z",
     "iopub.status.idle": "2022-01-06T03:26:44.729785Z",
     "shell.execute_reply": "2022-01-06T03:26:44.728760Z",
     "shell.execute_reply.started": "2022-01-06T03:26:44.709113Z"
    },
    "jupyter": {
     "outputs_hidden": false
    }
   },
   "outputs": [
    {
     "name": "stderr",
     "output_type": "stream",
     "text": [
      "/opt/conda/lib/python3.6/site-packages/sklearn/linear_model/logistic.py:433: FutureWarning: Default solver will be changed to 'lbfgs' in 0.22. Specify a solver to silence this warning.\n",
      "  FutureWarning)\n"
     ]
    },
    {
     "data": {
      "text/plain": [
       "98.5"
      ]
     },
     "execution_count": 49,
     "metadata": {},
     "output_type": "execute_result"
    }
   ],
   "source": [
    "# Logistic Regression\n",
    "\n",
    "logreg = LogisticRegression()\n",
    "logreg.fit(x_train, y_train)\n",
    "x_pred = logreg.predict(x_test)\n",
    "acc_log = round(logreg.score(x_train, y_train) * 100, 2)\n",
    "acc_log"
   ]
  },
  {
   "cell_type": "code",
   "execution_count": 50,
   "metadata": {
    "_cell_guid": "54a35927-e6cd-41d9-94f2-d77fc8455718",
    "_uuid": "57663c0b-1f21-4300-854e-cfe1043e4c5c",
    "collapsed": false,
    "execution": {
     "iopub.execute_input": "2022-01-06T03:26:46.943665Z",
     "iopub.status.busy": "2022-01-06T03:26:46.943328Z",
     "iopub.status.idle": "2022-01-06T03:26:46.949489Z",
     "shell.execute_reply": "2022-01-06T03:26:46.948713Z",
     "shell.execute_reply.started": "2022-01-06T03:26:46.943612Z"
    },
    "jupyter": {
     "outputs_hidden": false
    }
   },
   "outputs": [
    {
     "name": "stdout",
     "output_type": "stream",
     "text": [
      "['gender' 'race/ethnicity' 'parental level of education' 'lunch'\n",
      " 'test preparation course' 'math score' 'reading score' 'writing score'\n",
      " 'Average' 'Grade_math' 'Grade_reading' 'Grade_writing' 'Overall_grade'\n",
      " 'pass_math' 'pass_reading' 'pass_writing' 'pass_Overall']\n"
     ]
    }
   ],
   "source": [
    "print(data.columns.values)"
   ]
  },
  {
   "cell_type": "code",
   "execution_count": 51,
   "metadata": {
    "_cell_guid": "08b4e760-68e2-4b1b-99e2-b7d379daa217",
    "_uuid": "59970cf1-dd72-4107-a3d7-0f89a14359e8",
    "collapsed": false,
    "execution": {
     "iopub.execute_input": "2022-01-06T03:26:49.046153Z",
     "iopub.status.busy": "2022-01-06T03:26:49.045453Z",
     "iopub.status.idle": "2022-01-06T03:26:49.085591Z",
     "shell.execute_reply": "2022-01-06T03:26:49.084727Z",
     "shell.execute_reply.started": "2022-01-06T03:26:49.046101Z"
    },
    "jupyter": {
     "outputs_hidden": false
    }
   },
   "outputs": [
    {
     "data": {
      "text/html": [
       "<div>\n",
       "<style scoped>\n",
       "    .dataframe tbody tr th:only-of-type {\n",
       "        vertical-align: middle;\n",
       "    }\n",
       "\n",
       "    .dataframe tbody tr th {\n",
       "        vertical-align: top;\n",
       "    }\n",
       "\n",
       "    .dataframe thead th {\n",
       "        text-align: right;\n",
       "    }\n",
       "</style>\n",
       "<table border=\"1\" class=\"dataframe\">\n",
       "  <thead>\n",
       "    <tr style=\"text-align: right;\">\n",
       "      <th></th>\n",
       "      <th>gender</th>\n",
       "      <th>race/ethnicity</th>\n",
       "      <th>parental level of education</th>\n",
       "      <th>lunch</th>\n",
       "      <th>test preparation course</th>\n",
       "      <th>math score</th>\n",
       "      <th>reading score</th>\n",
       "      <th>writing score</th>\n",
       "      <th>Average</th>\n",
       "      <th>Grade_math</th>\n",
       "      <th>Grade_reading</th>\n",
       "      <th>Grade_writing</th>\n",
       "      <th>Overall_grade</th>\n",
       "      <th>pass_math</th>\n",
       "      <th>pass_reading</th>\n",
       "      <th>pass_writing</th>\n",
       "      <th>pass_Overall</th>\n",
       "    </tr>\n",
       "  </thead>\n",
       "  <tbody>\n",
       "    <tr>\n",
       "      <th>0</th>\n",
       "      <td>0</td>\n",
       "      <td>2</td>\n",
       "      <td>1</td>\n",
       "      <td>1</td>\n",
       "      <td>1</td>\n",
       "      <td>72</td>\n",
       "      <td>72</td>\n",
       "      <td>74</td>\n",
       "      <td>72.666667</td>\n",
       "      <td>3</td>\n",
       "      <td>3</td>\n",
       "      <td>3</td>\n",
       "      <td>3</td>\n",
       "      <td>1</td>\n",
       "      <td>1</td>\n",
       "      <td>1</td>\n",
       "      <td>1</td>\n",
       "    </tr>\n",
       "    <tr>\n",
       "      <th>1</th>\n",
       "      <td>0</td>\n",
       "      <td>3</td>\n",
       "      <td>4</td>\n",
       "      <td>1</td>\n",
       "      <td>0</td>\n",
       "      <td>69</td>\n",
       "      <td>90</td>\n",
       "      <td>88</td>\n",
       "      <td>82.333333</td>\n",
       "      <td>4</td>\n",
       "      <td>1</td>\n",
       "      <td>2</td>\n",
       "      <td>2</td>\n",
       "      <td>1</td>\n",
       "      <td>1</td>\n",
       "      <td>1</td>\n",
       "      <td>1</td>\n",
       "    </tr>\n",
       "    <tr>\n",
       "      <th>2</th>\n",
       "      <td>0</td>\n",
       "      <td>2</td>\n",
       "      <td>3</td>\n",
       "      <td>1</td>\n",
       "      <td>1</td>\n",
       "      <td>90</td>\n",
       "      <td>95</td>\n",
       "      <td>93</td>\n",
       "      <td>92.666667</td>\n",
       "      <td>1</td>\n",
       "      <td>1</td>\n",
       "      <td>1</td>\n",
       "      <td>1</td>\n",
       "      <td>1</td>\n",
       "      <td>1</td>\n",
       "      <td>1</td>\n",
       "      <td>1</td>\n",
       "    </tr>\n",
       "    <tr>\n",
       "      <th>3</th>\n",
       "      <td>1</td>\n",
       "      <td>1</td>\n",
       "      <td>0</td>\n",
       "      <td>0</td>\n",
       "      <td>1</td>\n",
       "      <td>47</td>\n",
       "      <td>57</td>\n",
       "      <td>44</td>\n",
       "      <td>49.333333</td>\n",
       "      <td>5</td>\n",
       "      <td>4</td>\n",
       "      <td>5</td>\n",
       "      <td>5</td>\n",
       "      <td>0</td>\n",
       "      <td>1</td>\n",
       "      <td>0</td>\n",
       "      <td>1</td>\n",
       "    </tr>\n",
       "    <tr>\n",
       "      <th>4</th>\n",
       "      <td>1</td>\n",
       "      <td>3</td>\n",
       "      <td>4</td>\n",
       "      <td>1</td>\n",
       "      <td>1</td>\n",
       "      <td>76</td>\n",
       "      <td>78</td>\n",
       "      <td>75</td>\n",
       "      <td>76.333333</td>\n",
       "      <td>3</td>\n",
       "      <td>3</td>\n",
       "      <td>3</td>\n",
       "      <td>3</td>\n",
       "      <td>1</td>\n",
       "      <td>1</td>\n",
       "      <td>1</td>\n",
       "      <td>1</td>\n",
       "    </tr>\n",
       "  </tbody>\n",
       "</table>\n",
       "</div>"
      ],
      "text/plain": [
       "   gender  race/ethnicity      ...       pass_writing  pass_Overall\n",
       "0       0               2      ...                  1             1\n",
       "1       0               3      ...                  1             1\n",
       "2       0               2      ...                  1             1\n",
       "3       1               1      ...                  0             1\n",
       "4       1               3      ...                  1             1\n",
       "\n",
       "[5 rows x 17 columns]"
      ]
     },
     "execution_count": 51,
     "metadata": {},
     "output_type": "execute_result"
    }
   ],
   "source": [
    "data.head()"
   ]
  },
  {
   "cell_type": "code",
   "execution_count": 52,
   "metadata": {
    "_cell_guid": "f607bb88-94c0-4535-bc26-08afc49d7fa0",
    "_uuid": "00b60992-b85d-47e4-a043-49443d04bcce",
    "collapsed": false,
    "execution": {
     "iopub.execute_input": "2022-01-06T03:26:51.873351Z",
     "iopub.status.busy": "2022-01-06T03:26:51.872830Z",
     "iopub.status.idle": "2022-01-06T03:26:51.910104Z",
     "shell.execute_reply": "2022-01-06T03:26:51.909239Z",
     "shell.execute_reply.started": "2022-01-06T03:26:51.873240Z"
    },
    "jupyter": {
     "outputs_hidden": false
    }
   },
   "outputs": [
    {
     "data": {
      "text/html": [
       "<div>\n",
       "<style scoped>\n",
       "    .dataframe tbody tr th:only-of-type {\n",
       "        vertical-align: middle;\n",
       "    }\n",
       "\n",
       "    .dataframe tbody tr th {\n",
       "        vertical-align: top;\n",
       "    }\n",
       "\n",
       "    .dataframe thead th {\n",
       "        text-align: right;\n",
       "    }\n",
       "</style>\n",
       "<table border=\"1\" class=\"dataframe\">\n",
       "  <thead>\n",
       "    <tr style=\"text-align: right;\">\n",
       "      <th></th>\n",
       "      <th>gender</th>\n",
       "      <th>race/ethnicity</th>\n",
       "      <th>parental level of education</th>\n",
       "      <th>lunch</th>\n",
       "      <th>test preparation course</th>\n",
       "      <th>math score</th>\n",
       "      <th>reading score</th>\n",
       "      <th>writing score</th>\n",
       "      <th>Average</th>\n",
       "      <th>Grade_math</th>\n",
       "      <th>Grade_reading</th>\n",
       "      <th>Grade_writing</th>\n",
       "      <th>Overall_grade</th>\n",
       "      <th>pass_math</th>\n",
       "      <th>pass_reading</th>\n",
       "      <th>pass_writing</th>\n",
       "      <th>pass_Overall</th>\n",
       "    </tr>\n",
       "  </thead>\n",
       "  <tbody>\n",
       "    <tr>\n",
       "      <th>995</th>\n",
       "      <td>0</td>\n",
       "      <td>5</td>\n",
       "      <td>3</td>\n",
       "      <td>1</td>\n",
       "      <td>0</td>\n",
       "      <td>88</td>\n",
       "      <td>99</td>\n",
       "      <td>95</td>\n",
       "      <td>94.000000</td>\n",
       "      <td>2</td>\n",
       "      <td>1</td>\n",
       "      <td>1</td>\n",
       "      <td>1</td>\n",
       "      <td>1</td>\n",
       "      <td>1</td>\n",
       "      <td>1</td>\n",
       "      <td>1</td>\n",
       "    </tr>\n",
       "    <tr>\n",
       "      <th>996</th>\n",
       "      <td>1</td>\n",
       "      <td>3</td>\n",
       "      <td>2</td>\n",
       "      <td>0</td>\n",
       "      <td>1</td>\n",
       "      <td>62</td>\n",
       "      <td>55</td>\n",
       "      <td>55</td>\n",
       "      <td>57.333333</td>\n",
       "      <td>4</td>\n",
       "      <td>4</td>\n",
       "      <td>4</td>\n",
       "      <td>4</td>\n",
       "      <td>1</td>\n",
       "      <td>1</td>\n",
       "      <td>1</td>\n",
       "      <td>1</td>\n",
       "    </tr>\n",
       "    <tr>\n",
       "      <th>997</th>\n",
       "      <td>0</td>\n",
       "      <td>3</td>\n",
       "      <td>2</td>\n",
       "      <td>0</td>\n",
       "      <td>0</td>\n",
       "      <td>59</td>\n",
       "      <td>71</td>\n",
       "      <td>65</td>\n",
       "      <td>65.000000</td>\n",
       "      <td>4</td>\n",
       "      <td>3</td>\n",
       "      <td>4</td>\n",
       "      <td>4</td>\n",
       "      <td>1</td>\n",
       "      <td>1</td>\n",
       "      <td>1</td>\n",
       "      <td>1</td>\n",
       "    </tr>\n",
       "    <tr>\n",
       "      <th>998</th>\n",
       "      <td>0</td>\n",
       "      <td>4</td>\n",
       "      <td>4</td>\n",
       "      <td>1</td>\n",
       "      <td>0</td>\n",
       "      <td>68</td>\n",
       "      <td>78</td>\n",
       "      <td>77</td>\n",
       "      <td>74.333333</td>\n",
       "      <td>4</td>\n",
       "      <td>3</td>\n",
       "      <td>3</td>\n",
       "      <td>3</td>\n",
       "      <td>1</td>\n",
       "      <td>1</td>\n",
       "      <td>1</td>\n",
       "      <td>1</td>\n",
       "    </tr>\n",
       "    <tr>\n",
       "      <th>999</th>\n",
       "      <td>0</td>\n",
       "      <td>4</td>\n",
       "      <td>4</td>\n",
       "      <td>0</td>\n",
       "      <td>1</td>\n",
       "      <td>77</td>\n",
       "      <td>86</td>\n",
       "      <td>86</td>\n",
       "      <td>83.000000</td>\n",
       "      <td>3</td>\n",
       "      <td>2</td>\n",
       "      <td>2</td>\n",
       "      <td>2</td>\n",
       "      <td>1</td>\n",
       "      <td>1</td>\n",
       "      <td>1</td>\n",
       "      <td>1</td>\n",
       "    </tr>\n",
       "  </tbody>\n",
       "</table>\n",
       "</div>"
      ],
      "text/plain": [
       "     gender  race/ethnicity      ...       pass_writing  pass_Overall\n",
       "995       0               5      ...                  1             1\n",
       "996       1               3      ...                  1             1\n",
       "997       0               3      ...                  1             1\n",
       "998       0               4      ...                  1             1\n",
       "999       0               4      ...                  1             1\n",
       "\n",
       "[5 rows x 17 columns]"
      ]
     },
     "execution_count": 52,
     "metadata": {},
     "output_type": "execute_result"
    }
   ],
   "source": [
    "data.tail()"
   ]
  },
  {
   "cell_type": "code",
   "execution_count": 53,
   "metadata": {
    "_cell_guid": "9a0263c7-49ed-4bd7-9737-64a75a77dbaa",
    "_uuid": "5e062a68-4e52-45e5-8b69-4f8b710394fc",
    "collapsed": false,
    "execution": {
     "iopub.execute_input": "2022-01-06T03:26:54.495397Z",
     "iopub.status.busy": "2022-01-06T03:26:54.494981Z",
     "iopub.status.idle": "2022-01-06T03:26:54.514904Z",
     "shell.execute_reply": "2022-01-06T03:26:54.513841Z",
     "shell.execute_reply.started": "2022-01-06T03:26:54.495323Z"
    },
    "jupyter": {
     "outputs_hidden": false
    }
   },
   "outputs": [
    {
     "data": {
      "text/plain": [
       "99.38"
      ]
     },
     "execution_count": 53,
     "metadata": {},
     "output_type": "execute_result"
    }
   ],
   "source": [
    "# Support Vector Machines\n",
    "\n",
    "svc = SVC()\n",
    "svc.fit(x_train, y_train)\n",
    "y_pred = svc.predict(x_test)\n",
    "acc_svc = round(svc.score(x_train, y_train) * 100, 2)\n",
    "acc_svc"
   ]
  },
  {
   "cell_type": "code",
   "execution_count": 54,
   "metadata": {
    "_cell_guid": "ee64dd8a-3a0e-4dd8-82b7-a288a0877a11",
    "_uuid": "c169fd14-e29d-4a9a-b608-2fca5b6173c5",
    "collapsed": false,
    "execution": {
     "iopub.execute_input": "2022-01-06T03:27:35.663987Z",
     "iopub.status.busy": "2022-01-06T03:27:35.663621Z",
     "iopub.status.idle": "2022-01-06T03:27:35.686102Z",
     "shell.execute_reply": "2022-01-06T03:27:35.684751Z",
     "shell.execute_reply.started": "2022-01-06T03:27:35.663928Z"
    },
    "jupyter": {
     "outputs_hidden": false
    }
   },
   "outputs": [
    {
     "data": {
      "text/plain": [
       "99.12"
      ]
     },
     "execution_count": 54,
     "metadata": {},
     "output_type": "execute_result"
    }
   ],
   "source": [
    "knn = KNeighborsClassifier(n_neighbors = 2)\n",
    "knn.fit(x_train, y_train)\n",
    "y_pred = knn.predict(x_test)\n",
    "acc_knn = round(knn.score(x_train, y_train) * 100, 2)\n",
    "acc_knn"
   ]
  },
  {
   "cell_type": "code",
   "execution_count": 55,
   "metadata": {
    "_cell_guid": "c2947d29-919d-4899-9bd2-3d8ff2cef786",
    "_uuid": "392c4a37-d6e3-4e97-b3af-953d8e3dcaa8",
    "collapsed": false,
    "execution": {
     "iopub.execute_input": "2022-01-06T03:26:59.121146Z",
     "iopub.status.busy": "2022-01-06T03:26:59.120811Z",
     "iopub.status.idle": "2022-01-06T03:26:59.132271Z",
     "shell.execute_reply": "2022-01-06T03:26:59.131505Z",
     "shell.execute_reply.started": "2022-01-06T03:26:59.121094Z"
    },
    "jupyter": {
     "outputs_hidden": false
    }
   },
   "outputs": [
    {
     "data": {
      "text/plain": [
       "98.5"
      ]
     },
     "execution_count": 55,
     "metadata": {},
     "output_type": "execute_result"
    }
   ],
   "source": [
    "# Gaussian Naive Bayes\n",
    "\n",
    "gaussian = GaussianNB()\n",
    "gaussian.fit(x_train, y_train)\n",
    "y_pred = gaussian.predict(x_test)\n",
    "acc_gaussian = round(gaussian.score(x_train, y_train) * 100, 2)\n",
    "acc_gaussian"
   ]
  },
  {
   "cell_type": "code",
   "execution_count": 56,
   "metadata": {
    "_cell_guid": "9f8b7082-d27f-45c1-b739-69e81cd3369f",
    "_uuid": "9fc085ec-0cb4-43d9-80c2-ea9484c23f97",
    "collapsed": false,
    "execution": {
     "iopub.execute_input": "2022-01-06T03:27:04.075987Z",
     "iopub.status.busy": "2022-01-06T03:27:04.075372Z",
     "iopub.status.idle": "2022-01-06T03:27:04.085125Z",
     "shell.execute_reply": "2022-01-06T03:27:04.084231Z",
     "shell.execute_reply.started": "2022-01-06T03:27:04.075902Z"
    },
    "jupyter": {
     "outputs_hidden": false
    }
   },
   "outputs": [
    {
     "data": {
      "text/plain": [
       "100.0"
      ]
     },
     "execution_count": 56,
     "metadata": {},
     "output_type": "execute_result"
    }
   ],
   "source": [
    "# Decision Tree\n",
    "\n",
    "decision_tree = DecisionTreeClassifier()\n",
    "decision_tree.fit(x_train, y_train)\n",
    "y_pred = decision_tree.predict(x_test)\n",
    "acc_decision_tree = round(decision_tree.score(x_train, y_train) * 100, 2)\n",
    "acc_decision_tree"
   ]
  },
  {
   "cell_type": "code",
   "execution_count": 57,
   "metadata": {
    "_cell_guid": "11b2b25a-2210-4351-a01e-d7643f16648f",
    "_uuid": "1822c44a-43e8-4524-8d1d-f6efe51960a5",
    "collapsed": false,
    "execution": {
     "iopub.execute_input": "2022-01-06T03:27:05.674629Z",
     "iopub.status.busy": "2022-01-06T03:27:05.674220Z",
     "iopub.status.idle": "2022-01-06T03:27:05.813818Z",
     "shell.execute_reply": "2022-01-06T03:27:05.812617Z",
     "shell.execute_reply.started": "2022-01-06T03:27:05.674563Z"
    },
    "jupyter": {
     "outputs_hidden": false
    }
   },
   "outputs": [
    {
     "data": {
      "text/plain": [
       "100.0"
      ]
     },
     "execution_count": 57,
     "metadata": {},
     "output_type": "execute_result"
    }
   ],
   "source": [
    "random_forest = RandomForestClassifier(n_estimators=100)\n",
    "random_forest.fit(x_train, y_train)\n",
    "y_pred = random_forest.predict(x_test)\n",
    "random_forest.score(x_train, y_train)\n",
    "acc_random_forest = round(random_forest.score(x_train, y_train) * 100, 2)\n",
    "acc_random_forest"
   ]
  },
  {
   "cell_type": "code",
   "execution_count": 58,
   "metadata": {
    "_cell_guid": "c49016f2-5fd1-462c-89d7-fcbf19db5606",
    "_uuid": "7c81aa15-0c40-491e-9495-1d9bb472b0c8",
    "collapsed": false,
    "execution": {
     "iopub.execute_input": "2022-01-06T03:27:48.069055Z",
     "iopub.status.busy": "2022-01-06T03:27:48.068732Z",
     "iopub.status.idle": "2022-01-06T03:27:48.087616Z",
     "shell.execute_reply": "2022-01-06T03:27:48.086808Z",
     "shell.execute_reply.started": "2022-01-06T03:27:48.068999Z"
    },
    "jupyter": {
     "outputs_hidden": false
    }
   },
   "outputs": [
    {
     "data": {
      "text/html": [
       "<div>\n",
       "<style scoped>\n",
       "    .dataframe tbody tr th:only-of-type {\n",
       "        vertical-align: middle;\n",
       "    }\n",
       "\n",
       "    .dataframe tbody tr th {\n",
       "        vertical-align: top;\n",
       "    }\n",
       "\n",
       "    .dataframe thead th {\n",
       "        text-align: right;\n",
       "    }\n",
       "</style>\n",
       "<table border=\"1\" class=\"dataframe\">\n",
       "  <thead>\n",
       "    <tr style=\"text-align: right;\">\n",
       "      <th></th>\n",
       "      <th>Model</th>\n",
       "      <th>Score</th>\n",
       "    </tr>\n",
       "  </thead>\n",
       "  <tbody>\n",
       "    <tr>\n",
       "      <th>2</th>\n",
       "      <td>Logistic Regression</td>\n",
       "      <td>98.50</td>\n",
       "    </tr>\n",
       "    <tr>\n",
       "      <th>4</th>\n",
       "      <td>Naive Bayes</td>\n",
       "      <td>98.50</td>\n",
       "    </tr>\n",
       "    <tr>\n",
       "      <th>1</th>\n",
       "      <td>KNN</td>\n",
       "      <td>99.12</td>\n",
       "    </tr>\n",
       "    <tr>\n",
       "      <th>0</th>\n",
       "      <td>Support Vector Machines</td>\n",
       "      <td>99.38</td>\n",
       "    </tr>\n",
       "    <tr>\n",
       "      <th>3</th>\n",
       "      <td>Random Forest</td>\n",
       "      <td>100.00</td>\n",
       "    </tr>\n",
       "    <tr>\n",
       "      <th>5</th>\n",
       "      <td>Decision Tree</td>\n",
       "      <td>100.00</td>\n",
       "    </tr>\n",
       "  </tbody>\n",
       "</table>\n",
       "</div>"
      ],
      "text/plain": [
       "                     Model   Score\n",
       "2      Logistic Regression   98.50\n",
       "4              Naive Bayes   98.50\n",
       "1                      KNN   99.12\n",
       "0  Support Vector Machines   99.38\n",
       "3            Random Forest  100.00\n",
       "5            Decision Tree  100.00"
      ]
     },
     "execution_count": 58,
     "metadata": {},
     "output_type": "execute_result"
    }
   ],
   "source": [
    "models = pd.DataFrame({\n",
    "    'Model': ['Support Vector Machines', 'KNN', 'Logistic Regression', \n",
    "              'Random Forest', 'Naive Bayes', \n",
    "              'Decision Tree'],\n",
    "    'Score': [acc_svc, acc_knn, acc_log, \n",
    "              acc_random_forest,acc_gaussian,\n",
    "               acc_decision_tree]})\n",
    "models.sort_values(by='Score', ascending=True)"
   ]
  }
 ],
 "metadata": {
  "kernelspec": {
   "display_name": "Python 3",
   "language": "python",
   "name": "python3"
  },
  "language_info": {
   "codemirror_mode": {
    "name": "ipython",
    "version": 3
   },
   "file_extension": ".py",
   "mimetype": "text/x-python",
   "name": "python",
   "nbconvert_exporter": "python",
   "pygments_lexer": "ipython3",
   "version": "3.6.4"
  }
 },
 "nbformat": 4,
 "nbformat_minor": 4
}
